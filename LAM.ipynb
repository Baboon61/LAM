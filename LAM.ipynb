{
 "cells": [
  {
   "cell_type": "markdown",
   "metadata": {
    "collapsed": true
   },
   "source": [
    "# <u>Technical support : LAM-HTGTS</u>"
   ]
  },
  {
   "cell_type": "markdown",
   "metadata": {},
   "source": [
    "## 1) Introduction"
   ]
  },
  {
   "cell_type": "markdown",
   "metadata": {},
   "source": [
    "BLABLA LAM HTGTS\n",
    "\n",
    "BLABLA SANDRINE TECHNIQUE\n",
    "\n",
    "BLABLA IN THIS DOCUMENT YOU WILL FIND\n",
    "\n",
    "BLABLA ALL COMMANDS WITH A MODIFCATION IMPACT ARE SAVED IN FILE"
   ]
  },
  {
   "cell_type": "markdown",
   "metadata": {
    "collapsed": true
   },
   "source": [
    "Everytime you will see this block (### CODE ###) you need to write the line(s) below in a terminal<br >\n",
    "To open a terminal, right click on desktop or search it in applications<br>\n",
    "To copy/paste in a ternimal Ctrl+Shift+C/Ctrl+Shift+V (You will be able to copy/paste after the CD Guest addition)"
   ]
  },
  {
   "cell_type": "markdown",
   "metadata": {
    "collapsed": true
   },
   "source": [
    "Everytime you will see this block (### INFORMATION ###) meaning there is information about how a program works<br>\n",
    "Non-essential options are in brackets<br>\n",
    "Do not put the block in a terminal<br>"
   ]
  },
  {
   "cell_type": "markdown",
   "metadata": {
    "collapsed": true
   },
   "source": [
    "If you want more information about Python or R script, open them in text editor and read the commented lines"
   ]
  },
  {
   "cell_type": "markdown",
   "metadata": {
    "collapsed": true
   },
   "source": [
    "Please do not write name with special characters or spaces"
   ]
  },
  {
   "cell_type": "markdown",
   "metadata": {
    "collapsed": true
   },
   "source": [
    "CHECK REAL SIZE of the virtual machine at the end"
   ]
  },
  {
   "cell_type": "markdown",
   "metadata": {},
   "source": [
    "## 2) Installations & Requierements"
   ]
  },
  {
   "cell_type": "markdown",
   "metadata": {},
   "source": [
    "In installation step, make sure you have no error at the end of each command lines. If you do, please contact bastienherve61340@orange.fr"
   ]
  },
  {
   "cell_type": "markdown",
   "metadata": {},
   "source": [
    "### &nbsp;&nbsp;&nbsp;&nbsp;&nbsp;&nbsp;&nbsp;&nbsp;2.1) Install a Virtual Machine tool"
   ]
  },
  {
   "cell_type": "markdown",
   "metadata": {
    "collapsed": true
   },
   "source": [
    "You can install VirtualBox from this link : https://www.virtualbox.org/wiki/Downloads"
   ]
  },
  {
   "cell_type": "markdown",
   "metadata": {
    "collapsed": true
   },
   "source": [
    "You can use any virtual machine tool you want."
   ]
  },
  {
   "cell_type": "markdown",
   "metadata": {},
   "source": [
    "#### &nbsp;&nbsp;&nbsp;&nbsp;&nbsp;&nbsp;&nbsp;&nbsp;&nbsp;&nbsp;&nbsp;&nbsp;&nbsp;&nbsp;&nbsp;&nbsp;2.1.1) Download Linux iso"
   ]
  },
  {
   "cell_type": "markdown",
   "metadata": {
    "collapsed": true
   },
   "source": [
    "An iso is a file that looks like a CD for the machine. You can download an iso to mount a virtual machine in a virtual box.<br >\n",
    "This pipeline works with Ubuntu 18.04, could work with an other distribution or lower Ubuntu version (not tested)."
   ]
  },
  {
   "cell_type": "markdown",
   "metadata": {
    "collapsed": true
   },
   "source": [
    "Get the iso here : https://www.ubuntu.com/download/desktop (take amd64)"
   ]
  },
  {
   "cell_type": "markdown",
   "metadata": {},
   "source": [
    "#### &nbsp;&nbsp;&nbsp;&nbsp;&nbsp;&nbsp;&nbsp;&nbsp;&nbsp;&nbsp;&nbsp;&nbsp;&nbsp;&nbsp;&nbsp;&nbsp;2.1.2) Create your Linux Virtual Machine"
   ]
  },
  {
   "cell_type": "markdown",
   "metadata": {
    "collapsed": true
   },
   "source": [
    "- Run your VirtualBox application.<br >\n",
    "- Go to new, I named mine \"LAM\", choose type -> Linux, version Ubuntu 64 bits, memory space 8000Mio (or less if you don't have), hard drive -> create a virtual hard drive now<br >\n",
    "- File location -> any location you want, file size -> 20Go, VDI, allocate dynamicaly<br >\n",
    "- And create!"
   ]
  },
  {
   "cell_type": "markdown",
   "metadata": {},
   "source": [
    "### &nbsp;&nbsp;&nbsp;&nbsp;&nbsp;&nbsp;&nbsp;&nbsp;2.2) Install Linux"
   ]
  },
  {
   "cell_type": "markdown",
   "metadata": {
    "collapsed": true
   },
   "source": [
    "- Run your linux virtual machine\n",
    "- First run, it will ask the iso file\n",
    "- Install it with all the updates (you can erase disk and install ubuntu, it is a virtual machine anyway)\n",
    "- Name your machine whatever you want but remember it, it is your user name (mine is : lam)\n",
    "- Wait...\n",
    "- Then, open a terminal, write the line below"
   ]
  },
  {
   "cell_type": "code",
   "execution_count": null,
   "metadata": {
    "collapsed": true
   },
   "outputs": [],
   "source": [
    "### CODE ###\n",
    "sudo apt-get update\n",
    "sudo apt-get -y upgrade"
   ]
  },
  {
   "cell_type": "markdown",
   "metadata": {
    "collapsed": true
   },
   "source": [
    "- Shutdown the linux virtual machine"
   ]
  },
  {
   "cell_type": "markdown",
   "metadata": {},
   "source": [
    "#### &nbsp;&nbsp;&nbsp;&nbsp;&nbsp;&nbsp;&nbsp;&nbsp;&nbsp;&nbsp;&nbsp;&nbsp;&nbsp;&nbsp;&nbsp;&nbsp;2.2.1) Install shared folder"
   ]
  },
  {
   "cell_type": "markdown",
   "metadata": {
    "collapsed": true
   },
   "source": [
    "No need to copy/paste all your data on the virtual machine, just create a shared folder"
   ]
  },
  {
   "cell_type": "markdown",
   "metadata": {
    "collapsed": true
   },
   "source": [
    "Create a LAM directory wherever you want, in your Documents for example"
   ]
  },
  {
   "cell_type": "markdown",
   "metadata": {
    "collapsed": true
   },
   "source": [
    "- In machine manager -> share folder\n",
    "- Add new share directory, pathway -> C:\\Users\\your_name\\Documents\\LAM\n",
    "- Select auto mount !\n",
    "- In machine manager, go to Settings -> General -> Advanced\n",
    "- Shared paper press to bidirectionnal. Same for copy/paste"
   ]
  },
  {
   "cell_type": "markdown",
   "metadata": {
    "collapsed": true
   },
   "source": [
    "- Run linux virtual machine"
   ]
  },
  {
   "cell_type": "markdown",
   "metadata": {},
   "source": [
    "#### &nbsp;&nbsp;&nbsp;&nbsp;&nbsp;&nbsp;&nbsp;&nbsp;&nbsp;&nbsp;&nbsp;&nbsp;&nbsp;&nbsp;&nbsp;&nbsp;2.2.2) Install CD Guest addition"
   ]
  },
  {
   "cell_type": "markdown",
   "metadata": {
    "collapsed": true
   },
   "source": [
    "- To install the guest addiction. Go in the Virtual Machine menu, Devices -> Insert CD Guest Addition (do not worry if a kernel error message is display)\n",
    "- You can eject VBox disk"
   ]
  },
  {
   "cell_type": "code",
   "execution_count": null,
   "metadata": {
    "collapsed": true
   },
   "outputs": [],
   "source": [
    "### CODE ###\n",
    "###Change lam by your machine name\n",
    "sudo usermod -aG vboxsf lam"
   ]
  },
  {
   "cell_type": "markdown",
   "metadata": {
    "collapsed": true
   },
   "source": [
    "- Restart linux virtual machine"
   ]
  },
  {
   "cell_type": "markdown",
   "metadata": {
    "collapsed": true
   },
   "source": [
    "From here, you should be able to access the shared directory as an hard drive (with \"sf_\" in front of the share folder name).<br>\n",
    "It will also be accessible at path : /media/sf_LAM<br>\n",
    "The path will be very usefull in all command line."
   ]
  },
  {
   "cell_type": "markdown",
   "metadata": {},
   "source": [
    "### &nbsp;&nbsp;&nbsp;&nbsp;&nbsp;&nbsp;&nbsp;&nbsp;2.3) Intall Linux dependencies"
   ]
  },
  {
   "cell_type": "markdown",
   "metadata": {},
   "source": [
    "#### &nbsp;&nbsp;&nbsp;&nbsp;&nbsp;&nbsp;&nbsp;&nbsp;&nbsp;&nbsp;&nbsp;&nbsp;&nbsp;&nbsp;&nbsp;&nbsp;2.3.1) Install GIT"
   ]
  },
  {
   "cell_type": "code",
   "execution_count": null,
   "metadata": {
    "collapsed": true
   },
   "outputs": [],
   "source": [
    "### CODE ###\n",
    "sudo apt-get install git"
   ]
  },
  {
   "cell_type": "markdown",
   "metadata": {},
   "source": [
    "#### &nbsp;&nbsp;&nbsp;&nbsp;&nbsp;&nbsp;&nbsp;&nbsp;&nbsp;&nbsp;&nbsp;&nbsp;&nbsp;&nbsp;&nbsp;&nbsp;2.3.2) Install Python (2.7)"
   ]
  },
  {
   "cell_type": "markdown",
   "metadata": {
    "collapsed": true
   },
   "source": [
    "Minimal requierement : python2.7"
   ]
  },
  {
   "cell_type": "code",
   "execution_count": null,
   "metadata": {
    "collapsed": true
   },
   "outputs": [],
   "source": [
    "### CODE ###\n",
    "python -V\n",
    "###If you don't have it (Python 2.7)\n",
    "sudo apt-get install python"
   ]
  },
  {
   "cell_type": "markdown",
   "metadata": {},
   "source": [
    "##### &nbsp;&nbsp;&nbsp;&nbsp;&nbsp;&nbsp;&nbsp;&nbsp;&nbsp;&nbsp;&nbsp;&nbsp;&nbsp;&nbsp;&nbsp;&nbsp;&nbsp;&nbsp;&nbsp;&nbsp;&nbsp;&nbsp;&nbsp;&nbsp;2.3.2.1) Install Pip"
   ]
  },
  {
   "cell_type": "code",
   "execution_count": null,
   "metadata": {
    "collapsed": true
   },
   "outputs": [],
   "source": [
    "### CODE ###\n",
    "sudo apt-get install python-pip"
   ]
  },
  {
   "cell_type": "markdown",
   "metadata": {},
   "source": [
    "##### &nbsp;&nbsp;&nbsp;&nbsp;&nbsp;&nbsp;&nbsp;&nbsp;&nbsp;&nbsp;&nbsp;&nbsp;&nbsp;&nbsp;&nbsp;&nbsp;&nbsp;&nbsp;&nbsp;&nbsp;&nbsp;&nbsp;&nbsp;&nbsp;2.3.2.2) Install BioPython"
   ]
  },
  {
   "cell_type": "code",
   "execution_count": null,
   "metadata": {
    "collapsed": true
   },
   "outputs": [],
   "source": [
    "### CODE ###\n",
    "sudo pip install biopython"
   ]
  },
  {
   "cell_type": "markdown",
   "metadata": {},
   "source": [
    "##### &nbsp;&nbsp;&nbsp;&nbsp;&nbsp;&nbsp;&nbsp;&nbsp;&nbsp;&nbsp;&nbsp;&nbsp;&nbsp;&nbsp;&nbsp;&nbsp;&nbsp;&nbsp;&nbsp;&nbsp;&nbsp;&nbsp;&nbsp;&nbsp;2.3.2.3) Install Pandas"
   ]
  },
  {
   "cell_type": "code",
   "execution_count": null,
   "metadata": {
    "collapsed": true
   },
   "outputs": [],
   "source": [
    "### CODE ###\n",
    "sudo pip install pandas\n",
    "#pip install --no-binary pandas -I pandas"
   ]
  },
  {
   "cell_type": "markdown",
   "metadata": {},
   "source": [
    "##### &nbsp;&nbsp;&nbsp;&nbsp;&nbsp;&nbsp;&nbsp;&nbsp;&nbsp;&nbsp;&nbsp;&nbsp;&nbsp;&nbsp;&nbsp;&nbsp;&nbsp;&nbsp;&nbsp;&nbsp;&nbsp;&nbsp;&nbsp;&nbsp;2.3.2.4) Install Pyensembl"
   ]
  },
  {
   "cell_type": "code",
   "execution_count": null,
   "metadata": {
    "collapsed": true
   },
   "outputs": [],
   "source": [
    "### CODE ###\n",
    "sudo pip install pyensembl"
   ]
  },
  {
   "cell_type": "markdown",
   "metadata": {},
   "source": [
    "##### &nbsp;&nbsp;&nbsp;&nbsp;&nbsp;&nbsp;&nbsp;&nbsp;&nbsp;&nbsp;&nbsp;&nbsp;&nbsp;&nbsp;&nbsp;&nbsp;&nbsp;&nbsp;&nbsp;&nbsp;&nbsp;&nbsp;&nbsp;&nbsp;2.3.2.5) Install SciPy"
   ]
  },
  {
   "cell_type": "code",
   "execution_count": null,
   "metadata": {
    "collapsed": true
   },
   "outputs": [],
   "source": [
    "### CODE ###\n",
    "sudo pip install scipy\n",
    "#pip install --no-binary scipy -I scipy"
   ]
  },
  {
   "cell_type": "markdown",
   "metadata": {},
   "source": [
    "##### &nbsp;&nbsp;&nbsp;&nbsp;&nbsp;&nbsp;&nbsp;&nbsp;&nbsp;&nbsp;&nbsp;&nbsp;&nbsp;&nbsp;&nbsp;&nbsp;&nbsp;&nbsp;&nbsp;&nbsp;&nbsp;&nbsp;&nbsp;&nbsp;2.3.2.6) Install IPython"
   ]
  },
  {
   "cell_type": "code",
   "execution_count": null,
   "metadata": {
    "collapsed": true
   },
   "outputs": [],
   "source": [
    "### CODE ###\n",
    "sudo pip install ipython==5.0"
   ]
  },
  {
   "cell_type": "markdown",
   "metadata": {},
   "source": [
    "##### &nbsp;&nbsp;&nbsp;&nbsp;&nbsp;&nbsp;&nbsp;&nbsp;&nbsp;&nbsp;&nbsp;&nbsp;&nbsp;&nbsp;&nbsp;&nbsp;&nbsp;&nbsp;&nbsp;&nbsp;&nbsp;&nbsp;&nbsp;&nbsp;2.3.2.7) Install ipywidgets"
   ]
  },
  {
   "cell_type": "markdown",
   "metadata": {},
   "source": [
    "This import is not needed if you don't want to use CSReport"
   ]
  },
  {
   "cell_type": "code",
   "execution_count": null,
   "metadata": {
    "collapsed": true
   },
   "outputs": [],
   "source": [
    "### CODE ###\n",
    "sudo pip install ipywidgets"
   ]
  },
  {
   "cell_type": "markdown",
   "metadata": {},
   "source": [
    "#### &nbsp;&nbsp;&nbsp;&nbsp;&nbsp;&nbsp;&nbsp;&nbsp;&nbsp;&nbsp;&nbsp;&nbsp;&nbsp;&nbsp;&nbsp;&nbsp;2.3.3) Install Blast"
   ]
  },
  {
   "cell_type": "code",
   "execution_count": null,
   "metadata": {
    "collapsed": true
   },
   "outputs": [],
   "source": [
    "### CODE ###\n",
    "sudo apt-get install ncbi-blast+"
   ]
  },
  {
   "cell_type": "markdown",
   "metadata": {},
   "source": [
    "#### &nbsp;&nbsp;&nbsp;&nbsp;&nbsp;&nbsp;&nbsp;&nbsp;&nbsp;&nbsp;&nbsp;&nbsp;&nbsp;&nbsp;&nbsp;&nbsp;2.3.3) Install Bedtools"
   ]
  },
  {
   "cell_type": "code",
   "execution_count": null,
   "metadata": {
    "collapsed": true
   },
   "outputs": [],
   "source": [
    "### CODE ###\n",
    "sudo apt-get install bedtools"
   ]
  },
  {
   "cell_type": "markdown",
   "metadata": {},
   "source": [
    "### &nbsp;&nbsp;&nbsp;&nbsp;&nbsp;&nbsp;&nbsp;&nbsp;2.4) Import data"
   ]
  },
  {
   "cell_type": "markdown",
   "metadata": {},
   "source": [
    "Fastq you got from experiments need to be see by the virtual machine"
   ]
  },
  {
   "cell_type": "code",
   "execution_count": 2,
   "metadata": {
    "collapsed": true
   },
   "outputs": [],
   "source": [
    "### CODE ###\n",
    "###On your computer copy/paste your fastq.gz in your share folder (C:\\Users\\your_name\\Documents\\LAM\\Data\\name_of_your_data)\n",
    "###Create a new folder per study (Example : Puce1, like :\\Users\\your_name\\Documents\\LAM\\Data\\Puce1)\n",
    "###You can access the directory created at this path /media/sf_LAM/Data/Puce1/\n",
    "ls /media/sf_LAM/Data/Puce1/\n",
    "###You should be able to see your file here"
   ]
  },
  {
   "cell_type": "markdown",
   "metadata": {},
   "source": [
    "### &nbsp;&nbsp;&nbsp;&nbsp;&nbsp;&nbsp;&nbsp;&nbsp;2.5) Import Scripts"
   ]
  },
  {
   "cell_type": "markdown",
   "metadata": {},
   "source": [
    "Postprocessing scripts are store on github"
   ]
  },
  {
   "cell_type": "code",
   "execution_count": 1,
   "metadata": {
    "collapsed": true
   },
   "outputs": [],
   "source": [
    "### CODE ###\n",
    "###Remember the first \"lam\" in the next command line is you user name, change it if needed\n",
    "mkdir /home/lam/Documents/LAM\n",
    "cd /home/lam/Documents/LAM\n",
    "mkdir Scripts\n",
    "cd Scripts\n",
    "git clone https://github.com/Baboon61/LAM.git ."
   ]
  },
  {
   "cell_type": "markdown",
   "metadata": {},
   "source": [
    "### &nbsp;&nbsp;&nbsp;&nbsp;&nbsp;&nbsp;&nbsp;&nbsp;2.6) Install Transloc_pipeline"
   ]
  },
  {
   "cell_type": "markdown",
   "metadata": {},
   "source": [
    "#### &nbsp;&nbsp;&nbsp;&nbsp;&nbsp;&nbsp;&nbsp;&nbsp;&nbsp;&nbsp;&nbsp;&nbsp;&nbsp;&nbsp;&nbsp;&nbsp;2.6.1) Install application"
   ]
  },
  {
   "cell_type": "code",
   "execution_count": null,
   "metadata": {
    "collapsed": true
   },
   "outputs": [],
   "source": [
    "### CODE ###\n",
    "cd /home/lam/Documents/\n",
    "mkdir Software\n",
    "cd Software/\n",
    "mkdir robinmeyers\n",
    "cd robinmeyers\n",
    "git clone https://github.com/robinmeyers/transloc_pipeline.git"
   ]
  },
  {
   "cell_type": "markdown",
   "metadata": {
    "collapsed": true
   },
   "source": [
    "**Apply modifications till github patch by the author**<br>\n",
    "**Not needed if Perl version between 5.14 and 5.22**<br>\n",
    "With the Perl new version (>=5.23) a feature is depreciated, some modification are needed in 2 files"
   ]
  },
  {
   "cell_type": "code",
   "execution_count": null,
   "metadata": {
    "collapsed": true
   },
   "outputs": [],
   "source": [
    "### CODE ###\n",
    "sed -i \"s/values \\$R1_alns_ref/values %{\\$R1_alns_ref}/g\" /home/lam/Documents/Software/robinmeyers/transloc_pipeline/lib/TranslocHelper.pl\n",
    "sed -i \"s/values \\$R2_alns_ref/values %{\\$R2_alns_ref}/g\" /home/lam/Documents/Software/robinmeyers/transloc_pipeline/lib/TranslocHelper.pl\n",
    "sed -i \"s/keys \\$R1_alns/keys %{\\$R1_alns}/g\" /home/lam/Documents/Software/robinmeyers/transloc_pipeline/lib/TranslocFilters.pl\n",
    "sed -i \"s/keys \\$R2_alns/keys %{\\$R2_alns}/g\" /home/lam/Documents/Software/robinmeyers/transloc_pipeline/lib/TranslocFilters.pl"
   ]
  },
  {
   "cell_type": "markdown",
   "metadata": {},
   "source": [
    "#### &nbsp;&nbsp;&nbsp;&nbsp;&nbsp;&nbsp;&nbsp;&nbsp;&nbsp;&nbsp;&nbsp;&nbsp;&nbsp;&nbsp;&nbsp;&nbsp;2.6.2) Install source paths"
   ]
  },
  {
   "cell_type": "code",
   "execution_count": null,
   "metadata": {
    "collapsed": true
   },
   "outputs": [],
   "source": [
    "### CODE ###\n",
    "gedit ~/.bashrc\n",
    "### in ~/.bashrc (end of file), add these\n",
    "export PATH=$PATH:/home/lam/Documents/Software/robinmeyers/transloc_pipeline/bin\n",
    "export PATH=$PATH:/home/lam/Documents/Software/robinmeyers/transloc_pipeline/R\n",
    "export GENOME_DB=/home/lam/Documents/Software/robinmeyers/genomes\n",
    "export BOWTIE2_INDEXES=/home/lam/Documents/Software/robinmeyers/genomes/bowtie2_indexes\n",
    "### out ~/.bashrc\n",
    "source ~/.bashrc"
   ]
  },
  {
   "cell_type": "markdown",
   "metadata": {},
   "source": [
    "#### &nbsp;&nbsp;&nbsp;&nbsp;&nbsp;&nbsp;&nbsp;&nbsp;&nbsp;&nbsp;&nbsp;&nbsp;&nbsp;&nbsp;&nbsp;&nbsp;2.6.3) Install Bowtie2"
   ]
  },
  {
   "cell_type": "code",
   "execution_count": null,
   "metadata": {
    "collapsed": true
   },
   "outputs": [],
   "source": [
    "### CODE ###\n",
    "sudo apt-get install bowtie2"
   ]
  },
  {
   "cell_type": "markdown",
   "metadata": {},
   "source": [
    "#### &nbsp;&nbsp;&nbsp;&nbsp;&nbsp;&nbsp;&nbsp;&nbsp;&nbsp;&nbsp;&nbsp;&nbsp;&nbsp;&nbsp;&nbsp;&nbsp;2.6.4) Set up a genome"
   ]
  },
  {
   "cell_type": "markdown",
   "metadata": {},
   "source": [
    "The LAM-HTGTS technique needs a reference genome to map your experimental reads. If you used multiple genomes or/and modified genomes, there are all require."
   ]
  },
  {
   "cell_type": "markdown",
   "metadata": {},
   "source": [
    "##### &nbsp;&nbsp;&nbsp;&nbsp;&nbsp;&nbsp;&nbsp;&nbsp;&nbsp;&nbsp;&nbsp;&nbsp;&nbsp;&nbsp;&nbsp;&nbsp;&nbsp;&nbsp;&nbsp;&nbsp;&nbsp;&nbsp;&nbsp;&nbsp;2.6.4.1) Classic Genome"
   ]
  },
  {
   "cell_type": "code",
   "execution_count": null,
   "metadata": {
    "collapsed": true
   },
   "outputs": [],
   "source": [
    "### CODE ###\n",
    "cd /home/lam/Documents/Software/robinmeyers\n",
    "mkdir genomes\n",
    "mkdir -p $BOWTIE2_INDEXES\n",
    "cd $BOWTIE2_INDEXES\n",
    "###For MOUSE, update the link if necessary (may 2018)\n",
    "###If you want HUMAN (ftp://ftp.ebi.ac.uk/pub/databases/gencode/Gencode_human/release_28/GRCh38.p12.genome.fa.gz)\n",
    "###If Gencode is down or you want an other plateform, you can go to GRC or Ensembl (becareful about fasta header names)\n",
    "wget ftp://ftp.ebi.ac.uk/pub/databases/gencode/Gencode_mouse/release_M17/GRCm38.p6.genome.fa.gz\n",
    "gunzip GRCm38.p6.genome.fa.gz"
   ]
  },
  {
   "cell_type": "markdown",
   "metadata": {},
   "source": [
    "##### &nbsp;&nbsp;&nbsp;&nbsp;&nbsp;&nbsp;&nbsp;&nbsp;&nbsp;&nbsp;&nbsp;&nbsp;&nbsp;&nbsp;&nbsp;&nbsp;&nbsp;&nbsp;&nbsp;&nbsp;&nbsp;&nbsp;&nbsp;&nbsp;2.6.4.2) Modified Genome"
   ]
  },
  {
   "cell_type": "markdown",
   "metadata": {
    "collapsed": true
   },
   "source": [
    "If you have sequenced a modified animal, a modified genome will be needed. You will will to modify the reference genome.\n",
    "First, download the reference genome you want to modify"
   ]
  },
  {
   "cell_type": "markdown",
   "metadata": {
    "collapsed": true
   },
   "source": [
    "Not needed if you already downloaded it (same commands as 2.6.4.1)"
   ]
  },
  {
   "cell_type": "code",
   "execution_count": null,
   "metadata": {
    "collapsed": true
   },
   "outputs": [],
   "source": [
    "### CODE ###\n",
    "cd /home/lam/Documents/Software/robinmeyers\n",
    "mkdir genomes\n",
    "mkdir -p $BOWTIE2_INDEXES\n",
    "cd $BOWTIE2_INDEXES\n",
    "###For MOUSE, update the link if necessary (may 2018)\n",
    "###If you want HUMAN (ftp://ftp.ebi.ac.uk/pub/databases/gencode/Gencode_human/release_28/GRCh38.p12.genome.fa.gz)\n",
    "###If Gencode is down or you want an other plateform, you can go to GRC or Ensembl (becareful about fasta header names)\n",
    "wget ftp://ftp.ebi.ac.uk/pub/databases/gencode/Gencode_mouse/release_M17/GRCm38.p6.genome.fa.gz\n",
    "gunzip GRCm38.p6.genome.fa.gz\n",
    "###Rename your file with the genome name, here mm10\n",
    "mv GRCm38.p6.genome.fa mm10.fa"
   ]
  },
  {
   "cell_type": "markdown",
   "metadata": {
    "collapsed": true
   },
   "source": [
    "Then, the **lookmod_genome.py** script will help you to modifiy this genome with 3 fonctions."
   ]
  },
  {
   "cell_type": "code",
   "execution_count": null,
   "metadata": {},
   "outputs": [],
   "source": [
    "### INFORMATION ###\n",
    "lookmod_genome.py -m <mode : list, look, modify> -g <genome type> -r <reference fasta file> -c <construction fasta file> -p <position> -s <surroundings length> [-i <info file>]\n",
    "    -h or --help : display this help\n",
    "    -m or --mode : list, look, modify\n",
    "    -g or --genome : genome type (if mode is modify)\n",
    "    -r or --file_reference : reference fasta file\n",
    "    -c or --file_construction : construction fasta file (if mode is modify)\n",
    "    -p or --position : position chrmX:start:end (if mode is look)\n",
    "    -s or --surrondings : surroundings length (default : 10) (if mode is look)\n",
    "    -i or --info : output in file the terminal ouput"
   ]
  },
  {
   "cell_type": "markdown",
   "metadata": {
    "collapsed": true
   },
   "source": [
    "**How it works :**<br>\n",
    "A script allowing to modify a reference genome according to your experimental genome.<br>\n",
    "3 functions :<br>\n",
    "* **List** : Will allow you to have a look on chromosomes present in your reference genome file<br>\n",
    "* **Look** : Will allow you to have a look around the area you want to modify. Before any modification you can have a look at the position you want to insert or delete in the reference genome. If you want to insert something in chr12 between 113 000 000 and 114 000 000, you will have a look before and after this position.<br> Ex : If you want to look at the surroundings spot of 9 bases let's say between 12 and 22 on chr1, where you want to insert a sequence, you can write<br> python lookmod_genome.py -m look -f file.fasta -p chr1:12:22 -s 10<br> You will get the following area 12-9, so 3, to 22+9, so 31<br> from3to12\\**from22to31<br>\n",
    "* **Modify** : Will allow you to modify a reference genome. This method needs a contruction file (option -c). The trick is in this file.<br> In the file, information is carried in fasta format, with headers and sequences.The header contains the type of modification you want to apply, then \":\", following by the location of this modification (chr:start:end). 4 Types of modification are supported :<br>\n",
    "&nbsp;&nbsp;&nbsp;&nbsp;&nbsp;&nbsp;&nbsp;&nbsp;**deletion :** Delete a part of the reference genome (Ex: chr4 from 40 to 50, will delete base from 41 to 49), no sequence needed<br>\n",
    "&nbsp;&nbsp;&nbsp;&nbsp;&nbsp;&nbsp;&nbsp;&nbsp;&nbsp;&nbsp;&nbsp;&nbsp;&nbsp;&nbsp;&nbsp;&nbsp;>deletion:chr4:40:50<br>\n",
    "&nbsp;&nbsp;&nbsp;&nbsp;&nbsp;&nbsp;&nbsp;&nbsp;**insertion :** Insertion of sequence in the reference genome (Ex: chr1 at position 25), don't forget your sequence below<br>\n",
    "&nbsp;&nbsp;&nbsp;&nbsp;&nbsp;&nbsp;&nbsp;&nbsp;&nbsp;&nbsp;&nbsp;&nbsp;&nbsp;&nbsp;&nbsp;&nbsp;>insertion:chr1:25:26<br>\n",
    "&nbsp;&nbsp;&nbsp;&nbsp;&nbsp;&nbsp;&nbsp;&nbsp;&nbsp;&nbsp;&nbsp;&nbsp;&nbsp;&nbsp;&nbsp;&nbsp;Info : You can also replace with insertion type, just enlarge your location, like :<br>\n",
    "&nbsp;&nbsp;&nbsp;&nbsp;&nbsp;&nbsp;&nbsp;&nbsp;&nbsp;&nbsp;&nbsp;&nbsp;&nbsp;&nbsp;&nbsp;&nbsp;>insertion:chr1:25:35<br>\n",
    "&nbsp;&nbsp;&nbsp;&nbsp;&nbsp;&nbsp;&nbsp;&nbsp;**add :** Add a new chromosome to the reference genome, don't forget your sequence below<br>\n",
    "&nbsp;&nbsp;&nbsp;&nbsp;&nbsp;&nbsp;&nbsp;&nbsp;&nbsp;&nbsp;&nbsp;&nbsp;&nbsp;&nbsp;&nbsp;&nbsp;>add:your_chromosome_name<br>\n",
    "&nbsp;&nbsp;&nbsp;&nbsp;&nbsp;&nbsp;&nbsp;&nbsp;**remove :** Remove a chromosome from the reference genome, no sequence needed<br>\n",
    "&nbsp;&nbsp;&nbsp;&nbsp;&nbsp;&nbsp;&nbsp;&nbsp;&nbsp;&nbsp;&nbsp;&nbsp;&nbsp;&nbsp;&nbsp;&nbsp;>remove:your_chromosome_name<br>"
   ]
  },
  {
   "cell_type": "markdown",
   "metadata": {
    "collapsed": true
   },
   "source": [
    "Info :<br>\n",
    "* You had to combine DELETION, INSERTION, ADD and REMOVE in the same fasta file<br>\n",
    "* All positions will be calculated on reference genome, this way a modification will not impact the genome position for the next modification"
   ]
  },
  {
   "cell_type": "markdown",
   "metadata": {
    "collapsed": true
   },
   "source": [
    "I saved my construction fasta file under /media/sf_LAM/Data/mm10_Jk_construction.fasta"
   ]
  },
  {
   "cell_type": "markdown",
   "metadata": {
    "collapsed": true
   },
   "source": [
    "###### List "
   ]
  },
  {
   "cell_type": "code",
   "execution_count": null,
   "metadata": {
    "collapsed": true
   },
   "outputs": [],
   "source": [
    "### CODE ###\n",
    "cd $BOWTIE2_INDEXES\n",
    "python /home/lam/Documents/LAM/Scripts/lookmod_genome.py -m list -r mm10.fa -i output_list_chromosomes_mm10.txt"
   ]
  },
  {
   "cell_type": "markdown",
   "metadata": {
    "collapsed": true
   },
   "source": [
    "###### Look"
   ]
  },
  {
   "cell_type": "code",
   "execution_count": null,
   "metadata": {
    "collapsed": true
   },
   "outputs": [],
   "source": [
    "### CODE ###\n",
    "cd $BOWTIE2_INDEXES\n",
    "python /home/lam/Documents/LAM/Scripts/lookmod_genome.py -m look -r mm10.fa -p chr12:113000000:114000000 -s 100 -i output_look_chr12_113000000_114000000_mm10.txt"
   ]
  },
  {
   "cell_type": "markdown",
   "metadata": {
    "collapsed": true
   },
   "source": [
    "###### Modify"
   ]
  },
  {
   "cell_type": "code",
   "execution_count": null,
   "metadata": {
    "collapsed": true
   },
   "outputs": [],
   "source": [
    "### CODE ###\n",
    "cd $BOWTIE2_INDEXES\n",
    "python /home/lam/Documents/LAM/Scripts/lookmod_genome.py -m modify -g mm10_Jk -r mm10.fa -c /media/sf_LAM/Data/mm10_Jk_construction.fasta -i output_modify_mm10_Jk_construction_mm10.txt\n",
    "###Result : mm10_Jk.fa"
   ]
  },
  {
   "cell_type": "markdown",
   "metadata": {},
   "source": [
    "##### &nbsp;&nbsp;&nbsp;&nbsp;&nbsp;&nbsp;&nbsp;&nbsp;&nbsp;&nbsp;&nbsp;&nbsp;&nbsp;&nbsp;&nbsp;&nbsp;&nbsp;&nbsp;&nbsp;&nbsp;&nbsp;&nbsp;&nbsp;&nbsp;2.6.4.3) Check modification"
   ]
  },
  {
   "cell_type": "markdown",
   "metadata": {
    "collapsed": true
   },
   "source": [
    "You can check your insertion length, doing quick math, using the look_genome.py mode list to get the length of the non-modified chromosome and modified chromosome."
   ]
  },
  {
   "cell_type": "markdown",
   "metadata": {},
   "source": [
    "##### &nbsp;&nbsp;&nbsp;&nbsp;&nbsp;&nbsp;&nbsp;&nbsp;&nbsp;&nbsp;&nbsp;&nbsp;&nbsp;&nbsp;&nbsp;&nbsp;2.6.5) Filtering out no \"conventionnal\" chromosomes"
   ]
  },
  {
   "cell_type": "markdown",
   "metadata": {},
   "source": [
    "To keep the most junctions as possible only \"conventional chromosomes\" (readable with Circos plot) will be kept. Using to the GRC documentation (https://www.ncbi.nlm.nih.gov/grc/help/definitions ), chromosomes and contigs outside the conventional assemblies will be deleted from the reference genome.<br>\n",
    "\n",
    "Reads will not have the possibility to be align on fixed or patched chromosomes. This action will \"force\" reads to be align on the conventional chromosomes (to be correct : will not have the possibility to be align on alternative chromosomes). So in case a read is aligned on a secondary assembly but also have a good match on conventional chromosome, this solution will save a read that we would have lost downstream in the analysis (circos_plot, karyotype_plot, locus detection... all focus on conventional chromosomes)\n",
    "\n",
    "This is a manipulation to beware of. This works in that particular case because we want to know were is the read on our genome, not the intrinsic read composition. Typicaly, in SNPs discovery the step is very dangerous and could lead to false positive discovery.<br>\n",
    "\n",
    "Furthermore, chrM known as mitochondrial chromosome has been remove due to the almost nul probability of junctions with this chromosome. Mitochondrial DNA is very difficult to access due to its membrane"
   ]
  },
  {
   "cell_type": "markdown",
   "metadata": {},
   "source": [
    "The **filter_reference_genome.py** will just need the number of chromosome you have in your reference genome and if you want to keep or not sexual chromosomes in your analysis."
   ]
  },
  {
   "cell_type": "code",
   "execution_count": null,
   "metadata": {},
   "outputs": [],
   "source": [
    "### INFORMATION ###\n",
    "filter_reference_genome.py -r <reference fasta file> -a <autosome number> [-s -i <info file>]\n",
    "    -h or --help : display this help\n",
    "    -r or --file_reference : reference fasta file\n",
    "    -a or --autosomes : number of automome in the reference genome\n",
    "    -s or --sexual : remove sexual chromosomes\n",
    "    -i or --info : output in file the terminal ouput"
   ]
  },
  {
   "cell_type": "markdown",
   "metadata": {},
   "source": [
    "##### mm10"
   ]
  },
  {
   "cell_type": "code",
   "execution_count": null,
   "metadata": {
    "collapsed": true
   },
   "outputs": [],
   "source": [
    "### CODE ###\n",
    "###Remove secondary assemblies from reference genome\n",
    "cd $BOWTIE2_INDEXES\n",
    "python /home/lam/Documents/LAM/Scripts/filter_reference_genome.py -r mm10.fa -a 19 -i output_chromosomes_mm10_filtered.txt"
   ]
  },
  {
   "cell_type": "markdown",
   "metadata": {},
   "source": [
    "##### mm10_Jk"
   ]
  },
  {
   "cell_type": "code",
   "execution_count": null,
   "metadata": {
    "collapsed": true
   },
   "outputs": [],
   "source": [
    "### CODE ###\n",
    "###Remove secondary assemblies from reference genome\n",
    "cd $BOWTIE2_INDEXES\n",
    "python /home/lam/Documents/LAM/Scripts/filter_reference_genome.py -r mm10_Jk.fa -a 19 -i output_chromosomes_mm10_Jk_filtered.txt"
   ]
  },
  {
   "cell_type": "markdown",
   "metadata": {},
   "source": [
    "#### &nbsp;&nbsp;&nbsp;&nbsp;&nbsp;&nbsp;&nbsp;&nbsp;&nbsp;&nbsp;&nbsp;&nbsp;&nbsp;&nbsp;&nbsp;&nbsp;2.6.6) Create bowtie2 index"
   ]
  },
  {
   "cell_type": "markdown",
   "metadata": {},
   "source": [
    "##### mm10"
   ]
  },
  {
   "cell_type": "code",
   "execution_count": null,
   "metadata": {
    "collapsed": true
   },
   "outputs": [],
   "source": [
    "### CODE ###\n",
    "###If you work on hg19, replace mm10 by hg19\n",
    "cd $BOWTIE2_INDEXES\n",
    "bowtie2-build mm10_filtered.fa mm10 > output_build_mm10.txt 2>&1"
   ]
  },
  {
   "cell_type": "markdown",
   "metadata": {},
   "source": [
    "##### mm10_Jk"
   ]
  },
  {
   "cell_type": "code",
   "execution_count": null,
   "metadata": {
    "collapsed": true
   },
   "outputs": [],
   "source": [
    "### CODE ###\n",
    "###If you work on hg19, replace mm10 by hg19\n",
    "cd $BOWTIE2_INDEXES\n",
    "bowtie2-build mm10_Jk_filtered.fa mm10_Jk > output_build_mm10_Jk.txt 2>&1"
   ]
  },
  {
   "cell_type": "markdown",
   "metadata": {},
   "source": [
    "#### &nbsp;&nbsp;&nbsp;&nbsp;&nbsp;&nbsp;&nbsp;&nbsp;&nbsp;&nbsp;&nbsp;&nbsp;&nbsp;&nbsp;&nbsp;&nbsp;2.6.7) Create genome folder"
   ]
  },
  {
   "cell_type": "markdown",
   "metadata": {},
   "source": [
    "##### mm10"
   ]
  },
  {
   "cell_type": "code",
   "execution_count": null,
   "metadata": {
    "collapsed": true
   },
   "outputs": [],
   "source": [
    "### CODE ###\n",
    "###If you work on hg19, replace mm10 by hg19\n",
    "cd $BOWTIE2_INDEXES\n",
    "mkdir -p $GENOME_DB/mm10\n",
    "bowtie2-inspect mm10 > $GENOME_DB/mm10/mm10.fa"
   ]
  },
  {
   "cell_type": "markdown",
   "metadata": {},
   "source": [
    "##### mm10_Jk"
   ]
  },
  {
   "cell_type": "code",
   "execution_count": null,
   "metadata": {
    "collapsed": true
   },
   "outputs": [],
   "source": [
    "### CODE ###\n",
    "###If you work on hg19, replace mm10 by hg19\n",
    "cd $BOWTIE2_INDEXES\n",
    "mkdir -p $GENOME_DB/mm10_Jk\n",
    "bowtie2-inspect mm10_Jk > $GENOME_DB/mm10_Jk/mm10_Jk.fa"
   ]
  },
  {
   "cell_type": "markdown",
   "metadata": {},
   "source": [
    "### &nbsp;&nbsp;&nbsp;&nbsp;&nbsp;&nbsp;&nbsp;&nbsp;2.7) Install Samtools"
   ]
  },
  {
   "cell_type": "code",
   "execution_count": null,
   "metadata": {
    "collapsed": true
   },
   "outputs": [],
   "source": [
    "### CODE ###\n",
    "cd /home/lam/Documents/Software/robinmeyers\n",
    "wget https://sourceforge.net/projects/samtools/files/samtools/0.1.17/samtools-0.1.17.tar.bz2\n",
    "tar xfvj samtools-0.1.17.tar.bz2\n",
    "cd samtools-0.1.17\n",
    "gedit Makefile\n",
    "### in Makefile\n",
    "###replace\n",
    "CFLAGS=\t\t-g -Wall -O2 #-m64 #-arch ppc\n",
    "###by\n",
    "CFLAGS=\t\t-g -Wall -O2 -fPIC #-m64 #-arch ppc\n",
    "### out Makefile\n",
    "sudo apt-get install libz-dev\n",
    "sudo apt-get install libncurses5-dev #libncursesw5-dev\n",
    "make\n",
    "make razip\n",
    "sudo cp samtools /usr/bin/"
   ]
  },
  {
   "cell_type": "markdown",
   "metadata": {},
   "source": [
    "### &nbsp;&nbsp;&nbsp;&nbsp;&nbsp;&nbsp;&nbsp;&nbsp;2.8) Install Perl >= 5.16"
   ]
  },
  {
   "cell_type": "code",
   "execution_count": null,
   "metadata": {
    "collapsed": true
   },
   "outputs": [],
   "source": [
    "### CODE ###\n",
    "sudo apt-get install libgd-perl\n",
    "sudo apt-get install libxml2-dev\n",
    "sudo apt-get install graphviz\n",
    "sudo cpan YAML\n",
    "#sudo cpan inc::latest\n",
    "sudo cpan Module::Build\n",
    "sudo cpan Bio::DB::Sam\n",
    "###Please enter the location of the bam.h and compiled libbam.a files:\n",
    "/home/lam/Documents/Software/robinmeyers/samtools-0.1.17\n",
    "sudo cpan File::Which Getopt::Long Text::CSV List::MoreUtils Data::GUID Interpolation IPC::System::Simple Storable Switch::Plain\n",
    "sudo cpan CJFIELDS/BioPerl-1.6.924.tar.gz\n",
    "###Sooooooo long, around 30mins\n",
    "###accept default options, no mail adress needed\n",
    "###[../apache_x.x/src] --> press q\n",
    "###Once again\n",
    "sudo cpan CJFIELDS/BioPerl-1.6.924.tar.gz\n",
    "###Do not worry if you get an XML::DOM::XPath error. You got this error because of the Perl version. This module will be not used."
   ]
  },
  {
   "cell_type": "markdown",
   "metadata": {},
   "source": [
    "### &nbsp;&nbsp;&nbsp;&nbsp;&nbsp;&nbsp;&nbsp;&nbsp;2.9) Install ea-utils"
   ]
  },
  {
   "cell_type": "code",
   "execution_count": null,
   "metadata": {
    "collapsed": true
   },
   "outputs": [],
   "source": [
    "### CODE ###\n",
    "sudo apt-get install libgsl-dev\n",
    "cd /home/lam/Documents/Software\n",
    "mkdir ea-utils\n",
    "cd ea-utils\n",
    "wget https://storage.googleapis.com/google-code-archive-downloads/v2/code.google.com/ea-utils/ea-utils.1.1.2-537.tar.gz\n",
    "tar xzvf ea-utils.1.1.2-537.tar.gz\n",
    "cd ea-utils.1.1.2-537\n",
    "make\n",
    "gedit ~/.bashrc\n",
    "### in ~/.bashrc\n",
    "export PATH=$PATH:/home/lam/Documents/Software/ea-utils/ea-utils.1.1.2-537\n",
    "### out ~/.bashrc\n",
    "source ~/.bashrc"
   ]
  },
  {
   "cell_type": "markdown",
   "metadata": {},
   "source": [
    "### &nbsp;&nbsp;&nbsp;&nbsp;&nbsp;&nbsp;&nbsp;&nbsp;2.10) Install SeqPrep"
   ]
  },
  {
   "cell_type": "code",
   "execution_count": null,
   "metadata": {
    "collapsed": true
   },
   "outputs": [],
   "source": [
    "### CODE ###\n",
    "cd /home/lam/Documents/Software\n",
    "git clone https://github.com/jstjohn/SeqPrep.git\n",
    "cd SeqPrep\n",
    "make\n",
    "gedit ~/.bashrc\n",
    "### in ~/.bashrc\n",
    "export PATH=$PATH:/home/lam/Documents/Software/SeqPrep\n",
    "### out ~/.bashrc\n",
    "source ~/.bashrc"
   ]
  },
  {
   "cell_type": "markdown",
   "metadata": {},
   "source": [
    "### &nbsp;&nbsp;&nbsp;&nbsp;&nbsp;&nbsp;&nbsp;&nbsp;2.11) Install R >= 3.4"
   ]
  },
  {
   "cell_type": "code",
   "execution_count": null,
   "metadata": {
    "collapsed": true
   },
   "outputs": [],
   "source": [
    "### CODE ###\n",
    "sudo apt-get install r-base\n",
    "sudo apt-get -y install libxml2-dev libssl-dev libcurl4-openssl-dev libmariadb-client-lgpl-dev libcairo2-dev libxt-dev\n",
    "sudo su\n",
    "echo \"deb http://www.stats.bris.ac.uk/R/bin/linux/ubuntu trusty/\" >> /etc/apt/sources.list\n",
    "apt-key adv --keyserver keyserver.ubuntu.com --recv-keys E084DAB9\n",
    "apt-get update\n",
    "apt-get upgrade\n",
    "exit\n",
    "R\n",
    "###In R\n",
    ">install.packages(c(\"curl\", \"readr\", \"argparser\", \"magrittr\", \"stringr\", \"plyr\", \"dplyr\", \"RCircos\", \"Cairo\", \"getopt\", \"seqinr\"))\n",
    "###twice yes\n",
    "###If you had to, select a mirror (France Lyon)\n",
    "> source(\"https://bioconductor.org/biocLite.R\")\n",
    "> biocLite(c(\"GenomicRanges\", \"BSgenome\", \"karyoploteR\", \"biomaRt\", \"regioneR\"))\n",
    "###enter a, then y to answer the question\n",
    "###Out R (quit())"
   ]
  },
  {
   "cell_type": "markdown",
   "metadata": {},
   "source": [
    "**From here I will take the Puce1 example<br>\n",
    "All files are txt files and can be opened with a text editor (care to the file size)<br>**"
   ]
  },
  {
   "cell_type": "markdown",
   "metadata": {},
   "source": [
    "## 3) Demultiplexing"
   ]
  },
  {
   "cell_type": "markdown",
   "metadata": {},
   "source": [
    "If you need to merge fastq.gz files (test ship and normal ship, for example)"
   ]
  },
  {
   "cell_type": "code",
   "execution_count": null,
   "metadata": {
    "collapsed": true
   },
   "outputs": [],
   "source": [
    "### CODE ###\n",
    "cat normal_1.fastq.gz nano_1.fastq.gz > merged_1.fastq.gz\n",
    "cat normal_2.fastq.gz nano_2.fastq.gz > merged_2.fastq.gz"
   ]
  },
  {
   "cell_type": "markdown",
   "metadata": {},
   "source": [
    "Your result files will be in merged.fastaq.gz"
   ]
  },
  {
   "cell_type": "markdown",
   "metadata": {},
   "source": [
    "### &nbsp;&nbsp;&nbsp;&nbsp;&nbsp;&nbsp;&nbsp;&nbsp;3.1) Create metadata file"
   ]
  },
  {
   "cell_type": "markdown",
   "metadata": {
    "collapsed": true
   },
   "source": [
    "To use transloc_pipeline, according to the LAM-HTGTS pipeline documentation (https://robinmeyers.github.io/transloc_pipeline/thedocs.html), a description file of your libraries is required (metadata.txt).<br>\n",
    "<b>Every element of this file is separated by a tabulation</b><br>\n",
    "So in this file, the first line (the header of the file) is always : <br><br>\n",
    "Library&nbsp;&nbsp;&nbsp;&nbsp;Assembly&nbsp;&nbsp;&nbsp;&nbsp;Chr&nbsp;&nbsp;&nbsp;&nbsp;Start&nbsp;&nbsp;&nbsp;&nbsp;End&nbsp;&nbsp;&nbsp;&nbsp;Strand&nbsp;&nbsp;&nbsp;&nbsp;MID&nbsp;&nbsp;&nbsp;&nbsp;Primer&nbsp;&nbsp;&nbsp;&nbsp;Adapter&nbsp;&nbsp;&nbsp;&nbsp;Description<br>\n",
    "\n",
    "- Library : The name of your library, (do not use space or special characters)\n",
    "- Assembly : The reference genome used to create this library (mm10, mm10_Jk, hg19...)\n",
    "- Chr : The chromosome sequenced\n",
    "- Start : First base of your primer on your reference genome (+1 using lookmod_genome.py, mode look)\n",
    "- End : Last base of your primer on your reference genome (+1 using lookmod_genome.py, mode look)\n",
    "- Strand : The strand of your sequence\n",
    "- MID : The MID sequence\n",
    "- Primer : The primer sequence\n",
    "- Adaptater : The adaptater sequence\n",
    "- Description : The description you want<br>\n",
    "\n",
    "Then, every libraries you made will follow line by line<br>\n",
    "For example : <br><br>\n",
    "<hr>\n",
    "Library&nbsp;&nbsp;&nbsp;&nbsp;Assembly&nbsp;&nbsp;&nbsp;&nbsp;Chr&nbsp;&nbsp;&nbsp;&nbsp;Start&nbsp;&nbsp;&nbsp;&nbsp;End&nbsp;&nbsp;&nbsp;&nbsp;Strand&nbsp;&nbsp;&nbsp;&nbsp;MID&nbsp;&nbsp;&nbsp;&nbsp;Primer&nbsp;&nbsp;&nbsp;&nbsp;Adapter&nbsp;&nbsp;&nbsp;&nbsp;Description<br>\n",
    "WT1-Smu&nbsp;&nbsp;&nbsp;&nbsp;mm10&nbsp;&nbsp;&nbsp;&nbsp;chr12&nbsp;&nbsp;&nbsp;&nbsp;113426679&nbsp;&nbsp;&nbsp;&nbsp;113426699&nbsp;&nbsp;&nbsp;&nbsp;-&nbsp;&nbsp;&nbsp;&nbsp;TTATCC&nbsp;&nbsp;&nbsp;&nbsp;cacacaaagactctggacct&nbsp;&nbsp;&nbsp;&nbsp;ACCACGCGTGCCCTATAGT&nbsp;&nbsp;&nbsp;&nbsp;WT-Smu replicat 1<br>\n",
    "KIKS1-Smu&nbsp;&nbsp;&nbsp;&nbsp;mm10&nbsp;&nbsp;&nbsp;&nbsp;chr12&nbsp;&nbsp;&nbsp;&nbsp;113426679&nbsp;&nbsp;&nbsp;&nbsp;113426699&nbsp;&nbsp;&nbsp;&nbsp;-&nbsp;&nbsp;&nbsp;&nbsp;TTAAGG&nbsp;&nbsp;&nbsp;&nbsp;cacacaaagactctggacct&nbsp;&nbsp;&nbsp;&nbsp;ACCACGCGTGCCCTATAGT&nbsp;&nbsp;&nbsp;&nbsp;KIKS-Smu replicat 1<br>\n",
    "<hr>\n",
    "\n",
    "If you failed at your start/end positions or at your library names, the preprocessing will fail.<br>\n",
    "\n",
    "Info : You can also create a csv file with LibreOffice or Excel, do not forget to save as csv file using tabulation delimiter\n",
    "\n",
    "Save the metadata file in Puce1 directory (metadata.txt)\n",
    "\n",
    "**The metadata file will be the most important option in quite all scripts along this workflow. We will manage and filter files in different ways according to the reference genome set up in metadata file**"
   ]
  },
  {
   "cell_type": "markdown",
   "metadata": {},
   "source": [
    "### &nbsp;&nbsp;&nbsp;&nbsp;&nbsp;&nbsp;&nbsp;&nbsp;3.2) Run demultiplexing"
   ]
  },
  {
   "cell_type": "markdown",
   "metadata": {
    "collapsed": true
   },
   "source": [
    "1h for 13 000 000 reads (16Go RAM)"
   ]
  },
  {
   "cell_type": "code",
   "execution_count": null,
   "metadata": {
    "collapsed": true
   },
   "outputs": [],
   "source": [
    "### CODE ###\n",
    "cd /media/sf_LAM/Data/Puce1\n",
    "TranslocPreprocess.pl metadata.txt preprocess --read1 merged_1.fastq.gz --read2 merged_2.fastq.gz > output_preprocess.txt 2>&1"
   ]
  },
  {
   "cell_type": "markdown",
   "metadata": {},
   "source": [
    "## 4) Quality check"
   ]
  },
  {
   "cell_type": "markdown",
   "metadata": {
    "collapsed": true
   },
   "source": [
    "Reads quality check is a vital step to ensure that libraries do not have abnormal metrics as reads length, GC percent... Final results would be accessible as html file, openable with a browser"
   ]
  },
  {
   "cell_type": "markdown",
   "metadata": {},
   "source": [
    "### &nbsp;&nbsp;&nbsp;&nbsp;&nbsp;&nbsp;&nbsp;&nbsp;4.1) Install FastQC"
   ]
  },
  {
   "cell_type": "code",
   "execution_count": 1,
   "metadata": {
    "collapsed": true
   },
   "outputs": [],
   "source": [
    "### CODE ###\n",
    "cd /home/lam/Documents/Software\n",
    "wget https://launchpad.net/ubuntu/+archive/primary/+files/fastqc_0.11.5+dfsg-3_all.deb\n",
    "sudo dpkg -i fastqc_0.11.5+dfsg-3_all.deb\n",
    "###If you got an error about bad installation package, you can try\n",
    "sudo apt --fix-broken install\n",
    "###Then redo the above command\n",
    "sudo apt-get install -f"
   ]
  },
  {
   "cell_type": "markdown",
   "metadata": {},
   "source": [
    "### &nbsp;&nbsp;&nbsp;&nbsp;&nbsp;&nbsp;&nbsp;&nbsp;4.2) Install MultiQC"
   ]
  },
  {
   "cell_type": "code",
   "execution_count": 1,
   "metadata": {
    "collapsed": true
   },
   "outputs": [],
   "source": [
    "### CODE ###\n",
    "cd /home/lam/Documents/Software\n",
    "git clone https://github.com/ewels/MultiQC.git\n",
    "cd MultiQC\n",
    "sudo python setup.py install"
   ]
  },
  {
   "cell_type": "markdown",
   "metadata": {},
   "source": [
    "### &nbsp;&nbsp;&nbsp;&nbsp;&nbsp;&nbsp;&nbsp;&nbsp;4.3) Run FastQC"
   ]
  },
  {
   "cell_type": "markdown",
   "metadata": {},
   "source": [
    "The **run_FastQC.py** will launch FastQC for every libraries in the metadata file."
   ]
  },
  {
   "cell_type": "code",
   "execution_count": null,
   "metadata": {},
   "outputs": [],
   "source": [
    "### INFORMATION ###\n",
    "run_FastQC.py -m <metadata file> -d <preprocess directory> -o <output directory>\n",
    "    -h or --help : display this help\n",
    "    -m or --file_metadata : metadata file\n",
    "    -p or --dir_prep : preprocess directory\n",
    "    -o or --dir_output : output directory"
   ]
  },
  {
   "cell_type": "code",
   "execution_count": null,
   "metadata": {
    "collapsed": true
   },
   "outputs": [],
   "source": [
    "### CODE ###\n",
    "cd /media/sf_LAM/Data/Puce1\n",
    "mkdir FastQC\n",
    "python /home/lam/Documents/LAM/Scripts/run_FastQC.py -m metadata.txt -p preprocess -o /media/sf_LAM/Data/Puce1/FastQC/ > output_FastQC.txt 2>&1 "
   ]
  },
  {
   "cell_type": "markdown",
   "metadata": {},
   "source": [
    "### &nbsp;&nbsp;&nbsp;&nbsp;&nbsp;&nbsp;&nbsp;&nbsp;4.4) Run MultiQC"
   ]
  },
  {
   "cell_type": "code",
   "execution_count": null,
   "metadata": {
    "collapsed": true
   },
   "outputs": [],
   "source": [
    "### CODE ###\n",
    "cd /media/sf_LAM/Data/Puce1\n",
    "multiqc -o FastQC/Overall FastQC/*zip > output_MultiQC.txt 2>&1"
   ]
  },
  {
   "cell_type": "markdown",
   "metadata": {},
   "source": [
    "### &nbsp;&nbsp;&nbsp;&nbsp;&nbsp;&nbsp;&nbsp;&nbsp;4.5) Quality overview"
   ]
  },
  {
   "cell_type": "markdown",
   "metadata": {},
   "source": [
    "You can have a global overview of your quality data in /media/sf_LAM/Data/Puce1/FastQC/Overall/ opening the multiqc_report.html or either library by library in /media/sf_LAM/Data/Puce1/FastQC/ opening the library_name_fastqc.html"
   ]
  },
  {
   "cell_type": "markdown",
   "metadata": {},
   "source": [
    "## 5) Junctions detection"
   ]
  },
  {
   "cell_type": "markdown",
   "metadata": {},
   "source": [
    "### &nbsp;&nbsp;&nbsp;&nbsp;&nbsp;&nbsp;&nbsp;&nbsp;5.1) Run junction detection"
   ]
  },
  {
   "cell_type": "markdown",
   "metadata": {
    "collapsed": true
   },
   "source": [
    "4h for 13 000 000 reads (16Go RAM)"
   ]
  },
  {
   "cell_type": "code",
   "execution_count": null,
   "metadata": {
    "collapsed": true
   },
   "outputs": [],
   "source": [
    "### CODE ###\n",
    "cd /media/sf_LAM/Data/Puce1\n",
    "TranslocWrapper.pl metadata.txt preprocess results > output_results.txt 2>&1"
   ]
  },
  {
   "cell_type": "markdown",
   "metadata": {},
   "source": [
    "### &nbsp;&nbsp;&nbsp;&nbsp;&nbsp;&nbsp;&nbsp;&nbsp;5.2) Remove _result.tlx file"
   ]
  },
  {
   "cell_type": "markdown",
   "metadata": {
    "collapsed": true
   },
   "source": [
    "This could sounds weird to remove these files (_result.tlx, _result_filter.txt, _result_filter_stats.txt) but we will not need them.\n",
    "Those were create with default parameters of TranslocPipeline and we want to apply our own filters, so remove them."
   ]
  },
  {
   "cell_type": "code",
   "execution_count": null,
   "metadata": {
    "collapsed": true
   },
   "outputs": [],
   "source": [
    "### CODE ###\n",
    "cd /media/sf_LAM/Data/Puce1/results\n",
    "find . -type f -name '*result*' -delete"
   ]
  },
  {
   "cell_type": "markdown",
   "metadata": {},
   "source": [
    "### &nbsp;&nbsp;&nbsp;&nbsp;&nbsp;&nbsp;&nbsp;&nbsp;5.3) Alignment check"
   ]
  },
  {
   "cell_type": "markdown",
   "metadata": {},
   "source": [
    "The purpose of the alignment check is to have a look at the localisation of aligned reads over the reference genome."
   ]
  },
  {
   "cell_type": "code",
   "execution_count": null,
   "metadata": {
    "collapsed": true
   },
   "outputs": [],
   "source": [
    "### CODE ###\n",
    "cd /media/sf_LAM/Data/Puce1\n",
    "###For R1 sam file\n",
    "awk -F\"\\t\" '{print $1}' metadata.txt | sed '1d' | while read lib; do samtools view -h -F 4 -S results/$lib/$lib'_R1.sam' | samtools view -F 256 -S - | awk ' $3 !~ /@/ {print $3}' - | sort | uniq -c > results/$lib/output_check_alignment_R1.txt; done;\n",
    "###For R2 sam file\n",
    "awk -F\"\\t\" '{print $1}' metadata.txt | sed '1d' | while read lib; do samtools view -h -F 4 -S results/$lib/$lib'_R2.sam' | samtools view -F 256 -S - | awk ' $3 !~ /@/ {print $3}' - | sort | uniq -c > results/$lib/output_check_alignment_R2.txt; done;"
   ]
  },
  {
   "cell_type": "markdown",
   "metadata": {},
   "source": [
    "If a \"_Inline\" folder still remains in \"/media/sf_LAM/Data/Puce1\" after this command, you can delete this directory."
   ]
  },
  {
   "cell_type": "markdown",
   "metadata": {},
   "source": [
    "<hr size=\"5\">\n",
    "<b>\n",
    "As filtering and spreading junctions is inconditionnaly related to user choice and can not be automated, it is hard to predict input and output files for the next step. To try to counter this, at each filtering and spreading step, the user will be invited to put a mark on the output file, let's say \"Dup\", for duplicate (mark that will be present on the output file name). The user can now chose to filter the raw file or to filter his new \"Dup\" filtered file. In order to do that, the user will be invited to input markers already applied to a file to guide the program towards the good file to filter.</b><br>\n",
    "<b>\n",
    "All manipulation junctions and visualization programs (part 6 and part 7) will have an option (-o) to apply a new mark and an option (-i) to list marks already used on this file (Please, do not change file names, that will trigger the algorith).<b><br>\n",
    "    \n",
    "- -o : You can add every word you want, as long as you want (something useful to remember what you did). Do not use space, underscore, hyphen... To glue multiple words in one use this strategy : UseMoreThanOneWord\n",
    "- -i : On this option the user will have to remember all marks applied to the file to filter.\n",
    "\n",
    "<b>\n",
    "All marks will be separated by comma like this : Dup,UseMoreThanOneWord. All marks have to be set in the good order from oldest to lastest. To filter the raw file, just delete the option (-i) from your command line\n",
    "</b><br><br>\n",
    "\n",
    "<b>\n",
    "Also, in some scripts the construction file is an option. The file is what you have modified from the reference genome. If you add this construction file in the command line, the script will modify junction positions according to the construction file, if you don't it will not.\n",
    "</b>\n",
    "<br>\n",
    "\n",
    "<hr size=\"5\">"
   ]
  },
  {
   "cell_type": "markdown",
   "metadata": {},
   "source": [
    "## 6) Junctions manipulation"
   ]
  },
  {
   "cell_type": "markdown",
   "metadata": {},
   "source": [
    "### &nbsp;&nbsp;&nbsp;&nbsp;&nbsp;&nbsp;&nbsp;&nbsp;6.1) Junctions filtering"
   ]
  },
  {
   "cell_type": "markdown",
   "metadata": {},
   "source": [
    "After junctions detection from TranslocWrapper.pl, the script output a file which contains all junctions (name_of_your_library.tlx).<br>\n",
    "This file needs to be filtered to keep only worthwhile junctions.<br>\n",
    "\n",
    "The python script **filter_transloc_results.py** is an options manager to use the TranslocFilter.pl script from https://robinmeyers.github.io/transloc_pipeline/thedocs.html documentation.<br>\n",
    "\n",
    "These options could have a binary value as 0 and 1 (0 the read has not this status, 1 the read has this status) or non binary value (for example, X number of base aligned after the bait).<br>\n",
    "\n",
    "Remember that the script will filter out reads that matched with the option you set up.<br>\n",
    "For exemple, if you do not want duplicate, set up option duplicate to 1 will remove reads with the status duplicate.<br>\n",
    "For options with non binary value, with X the threshold you want to set up, you can filter out the read with value bigger than X with letter G before X, like G10, or you can filter out the read with value smaller than X with letter L before X, like L10.<br>\n",
    "Last thing you can do with the non binary value, if you want to filter out a specific value, just write your X without G or L.\n",
    "\n",
    "To not use a filter, do not write it in the command line.<br>"
   ]
  },
  {
   "cell_type": "code",
   "execution_count": null,
   "metadata": {},
   "outputs": [],
   "source": [
    "### INFORMATION ###\n",
    "filter_transloc_results.py -m <metadata file> -g <genome type> -o <output mark> -t <results directory> [-i <input mark> --unaligned <value> --baitonly <value> --uncut <value> --misprimed <value> --freqcut <value> --largegap <value> --mapqual <value> --breaksite <value> --sequential <value> --repeatseq <value> --duplicate <value>]\n",
    "    -h or --help : display this help\n",
    "    -m or --file_metadata : metadata file\n",
    "    -g or --genome : only filter libraries results with this genome\n",
    "    -o or --output_mark : mark added to the output file name\n",
    "    -t or --dir_results : results directory\n",
    "    -i or --input_mark : marks from input file\n",
    "    --unaligned : No OCS alignments (0 or 1)\n",
    "    --baitonly : Bait alignment is either the only alignent in the OCS or only followed by adapter alignment (0 or 1)\n",
    "    --uncut : Bait alignment runs greater than some number of bases past the cutsite (L or G, then your value)\n",
    "    --misprimed : Bait alignment runs fewer than some number of bases past the primer (L or G, then your value)\n",
    "    --freqcut : Restriction enzyme site within some number of bases from the junction (0 or 1)\n",
    "    --largegap : More than some number of bases between the bait and prey alignments (L or G, then your value)\n",
    "    --mapqual : OCS had a competing prey junction (0 or 1)\n",
    "    --breaksite : Prey alignment maps into non-endogenous breaksite cassette (0 or 1)\n",
    "    --sequential : Junction occurs downstream on read from first bait-prey junction (0 or 1)\n",
    "    --repeatseq : Repeated sequences (0 or 1)\n",
    "    --duplicate : Duplicate junctions (0 or 1)"
   ]
  },
  {
   "cell_type": "markdown",
   "metadata": {},
   "source": [
    "<b>In our study, we copy a part of chr12 to chr6 in the reference genome called mm10_Jk<br>\n",
    "This lead to commun genome parts between chr12 and ch6 on some position which results in competing prey junctions.<br>\n",
    "To avoid this issue, we do not filter out mapqual for libraries with mm10_Jk reference genome, but we will further manually filter out mapqual that does not apply on commun region in chr12 and chr6 (part 6.1.3).</b>"
   ]
  },
  {
   "cell_type": "markdown",
   "metadata": {},
   "source": [
    "<b>We will keep both, duplicate junctions and no duplicate junctions in separated files</b>"
   ]
  },
  {
   "cell_type": "markdown",
   "metadata": {},
   "source": [
    "#### &nbsp;&nbsp;&nbsp;&nbsp;&nbsp;&nbsp;&nbsp;&nbsp;&nbsp;&nbsp;&nbsp;&nbsp;&nbsp;&nbsp;&nbsp;&nbsp;6.1.1) Filter junctions, keep duplicate"
   ]
  },
  {
   "cell_type": "markdown",
   "metadata": {},
   "source": [
    "###### mm10 genome"
   ]
  },
  {
   "cell_type": "code",
   "execution_count": null,
   "metadata": {
    "collapsed": true
   },
   "outputs": [],
   "source": [
    "### CODE ###\n",
    "cd /media/sf_LAM/Data/Puce1\n",
    "python /home/lam/Documents/LAM/Scripts/filter_transloc_results.py -m metadata.txt -g mm10 -o Dup -t results --unaligned 1 --baitonly 1 --misprimed L10 --freqcut 1 --largegap G30 --mapqual 1 --breaksite 1 --sequential 1 --repeatseq 1 > output_mm10_Dup.txt"
   ]
  },
  {
   "cell_type": "markdown",
   "metadata": {},
   "source": [
    "###### mm10_Jk genome"
   ]
  },
  {
   "cell_type": "code",
   "execution_count": null,
   "metadata": {
    "collapsed": true
   },
   "outputs": [],
   "source": [
    "### CODE ###\n",
    "cd /media/sf_LAM/Data/Puce1\n",
    "python /home/lam/Documents/LAM/Scripts/filter_transloc_results.py -m metadata.txt -g mm10_Jk -o Dup -t results --unaligned 1 --baitonly 1 --misprimed L10 --freqcut 1 --largegap G30 --breaksite 1 --sequential 1 --repeatseq 1 > output_mm10_Jk_Dup.txt"
   ]
  },
  {
   "cell_type": "markdown",
   "metadata": {},
   "source": [
    "#### &nbsp;&nbsp;&nbsp;&nbsp;&nbsp;&nbsp;&nbsp;&nbsp;&nbsp;&nbsp;&nbsp;&nbsp;&nbsp;&nbsp;&nbsp;&nbsp;6.1.2) Filter junctions, remove duplicate"
   ]
  },
  {
   "cell_type": "markdown",
   "metadata": {},
   "source": [
    "###### mm10 genome"
   ]
  },
  {
   "cell_type": "code",
   "execution_count": null,
   "metadata": {},
   "outputs": [],
   "source": [
    "### CODE ###\n",
    "cd /media/sf_LAM/Data/Puce1\n",
    "python /home/lam/Documents/LAM/Scripts/filter_transloc_results.py -m metadata.txt -g mm10 -o NoDup -t results --unaligned 1 --baitonly 1 --misprimed L10 --freqcut 1 --largegap G30 --mapqual 1 --breaksite 1 --sequential 1 --repeatseq 1 --duplicate 1 > output_mm10_NoDup.txt"
   ]
  },
  {
   "cell_type": "markdown",
   "metadata": {},
   "source": [
    "###### mm10_Jk genome"
   ]
  },
  {
   "cell_type": "code",
   "execution_count": null,
   "metadata": {
    "collapsed": true
   },
   "outputs": [],
   "source": [
    "### CODE ###\n",
    "cd /media/sf_LAM/Data/Puce1\n",
    "python /home/lam/Documents/LAM/Scripts/filter_transloc_results.py -m metadata.txt -g mm10_Jk -o NoDup -t results --unaligned 1 --baitonly 1 --misprimed L10 --freqcut 1 --largegap G30 --breaksite 1 --sequential 1 --repeatseq 1 --duplicate 1 > output_mm10_Jk_NoDup.txt"
   ]
  },
  {
   "cell_type": "markdown",
   "metadata": {},
   "source": [
    "#### &nbsp;&nbsp;&nbsp;&nbsp;&nbsp;&nbsp;&nbsp;&nbsp;&nbsp;&nbsp;&nbsp;&nbsp;&nbsp;&nbsp;&nbsp;&nbsp;6.1.3) Modified genome :  filter out non-essential mapqual junctions"
   ]
  },
  {
   "cell_type": "markdown",
   "metadata": {},
   "source": [
    "As we have a modified genome and duplicated parts in chr12 and chr6, we removed the mapqual filter from the filtering part for libraries mm10_Jk. But competing prey junctions can only append (in theory) between those two chromosomes, to be precise between duplicated parts only.<br>\n",
    "The following script will filter out mapqual junctions outside duplicated sequences boundaries."
   ]
  },
  {
   "cell_type": "markdown",
   "metadata": {},
   "source": [
    "##### &nbsp;&nbsp;&nbsp;&nbsp;&nbsp;&nbsp;&nbsp;&nbsp;&nbsp;&nbsp;&nbsp;&nbsp;&nbsp;&nbsp;&nbsp;&nbsp;&nbsp;&nbsp;&nbsp;&nbsp;&nbsp;&nbsp;&nbsp;&nbsp;6.1.3.1) Create the duplicate locus file"
   ]
  },
  {
   "cell_type": "markdown",
   "metadata": {},
   "source": [
    "You will have to create a file (mm10_Jk_duplicate_locus.txt) with all the duplicated sequences you have created in your modified genome (and only the one you have created). This file has to be a bed like file with the following attributes (no header needed) :<br>\n",
    "- from_chromosome\n",
    "- start position\n",
    "- end position\n",
    "- from_chromosome strand\n",
    "- to_chromosome\n",
    "- start position\n",
    "- end position\n",
    "- to_chromosome strand\n",
    "- name of the locus (g3)\n",
    "\n",
    "One line per duplicate, each attribute separated by tabulation<br>\n",
    "\n",
    "Becareful, positions you write in this file have to be relative to your modified genome not Ensembl or UCSC browser.<br>\n",
    "Example, if you have inserted 700 bases chr6 position 70 000 000, for each locus chr6 after 70 000 000 you will have to add 700 to all positions. If you have inserted multiple sequences, you will have to do the calculation.\n",
    "\n",
    "Tips : Blast all your locus against your modified genome to find locations and refine positions, if necessary with lookmod_genome.py, mode look.\n",
    "You can do a blast in command line or using the blast API on NCBI\n",
    "Unfortunatly, the blast API can not hundle a full modified genome, it is too heavy. The solution will be to crop your modified genome. Let's say you know that all duplications take place chr6 from 70 720 000 to 70 740 000 and chr12 from 113 000 000 to 114 000 000. Extract these positions from your modified genome using bedtools, you will get your sub-modified genome with chr6 : 20 000 bases and chr12 : 1 000 000 bases. Then blast all your locus against your sub-modified genome on blast API.<br>\n",
    "\n",
    "To create this subreference genome, make a new file (sub_modified_genome.bed) in $BOWTIE2_INDEXES path and write the sequences parts where duplicates take place, separated by tabulation:<br><br>\n",
    "<hr>\n",
    "chr6&nbsp;&nbsp;&nbsp;&nbsp;70720000&nbsp;&nbsp;&nbsp;&nbsp;70740000<br>\n",
    "chr12&nbsp;&nbsp;&nbsp;&nbsp;113000000&nbsp;&nbsp;&nbsp;&nbsp;114000000\n",
    "<hr>"
   ]
  },
  {
   "cell_type": "code",
   "execution_count": null,
   "metadata": {
    "collapsed": true
   },
   "outputs": [],
   "source": [
    "### CODE ###\n",
    "cd $BOWTIE2_INDEXES\n",
    "bedtools getfasta -fi mm10_Jk_filtered.fa -bed sub_modified_genome.bed -fo sub_1M_mm10_Jk_filtered.fa"
   ]
  },
  {
   "cell_type": "markdown",
   "metadata": {},
   "source": [
    "##### &nbsp;&nbsp;&nbsp;&nbsp;&nbsp;&nbsp;&nbsp;&nbsp;&nbsp;&nbsp;&nbsp;&nbsp;&nbsp;&nbsp;&nbsp;&nbsp;&nbsp;&nbsp;&nbsp;&nbsp;&nbsp;&nbsp;&nbsp;&nbsp;6.1.3.2) Filter out mapqual junctions outside duplicate locus"
   ]
  },
  {
   "cell_type": "markdown",
   "metadata": {
    "collapsed": true
   },
   "source": [
    "Once you have created the mm10_Jk_duplicate_contruction file (/media/sf_LAM/Data), then process the script **filter_non_essential_mapqual.py**<br>"
   ]
  },
  {
   "cell_type": "code",
   "execution_count": null,
   "metadata": {},
   "outputs": [],
   "source": [
    "### INFORMATION ###\n",
    "filter_non_essential_mapqual.py -m <metadata file> -g <genome type> -o <output mark> -c <construction fasta file> -t <results directory>[-i <input mark>]\n",
    "    -h or --help : display this help\n",
    "    -m or --file_metadata : metadata file\n",
    "    -g or --genome : only filter librairies results with this genome\n",
    "    -o or --output_mark : mark added to the output file name\n",
    "    -c or --file_construction : duplicate position from the experimental construction (chr,start,end)\n",
    "    -t or --dir_results : results directory\n",
    "    -i or --input_mark : marks from input file"
   ]
  },
  {
   "cell_type": "markdown",
   "metadata": {},
   "source": [
    "##### &nbsp;&nbsp;&nbsp;&nbsp;&nbsp;&nbsp;&nbsp;&nbsp;&nbsp;&nbsp;&nbsp;&nbsp;&nbsp;&nbsp;&nbsp;&nbsp;&nbsp;&nbsp;&nbsp;&nbsp;&nbsp;&nbsp;&nbsp;&nbsp;&nbsp;&nbsp;&nbsp;&nbsp;&nbsp;&nbsp;&nbsp;&nbsp;&nbsp;&nbsp;&nbsp;&nbsp;&nbsp;&nbsp;&nbsp;&nbsp;6.1.3.2.1) File with Duplicate"
   ]
  },
  {
   "cell_type": "code",
   "execution_count": null,
   "metadata": {
    "collapsed": true
   },
   "outputs": [],
   "source": [
    "### CODE ###\n",
    "cd /media/sf_LAM/Data/Puce1\n",
    "python /home/lam/Documents/LAM/Scripts/filter_non_essential_mapqual.py -m metadata.txt -g mm10_Jk -o FilOutMapqual -c ../mm10_Jk_duplicate_locus.txt -t results -i Dup > output_mm10_Jk_FilOutMapqual_Dup.txt"
   ]
  },
  {
   "cell_type": "markdown",
   "metadata": {},
   "source": [
    "##### &nbsp;&nbsp;&nbsp;&nbsp;&nbsp;&nbsp;&nbsp;&nbsp;&nbsp;&nbsp;&nbsp;&nbsp;&nbsp;&nbsp;&nbsp;&nbsp;&nbsp;&nbsp;&nbsp;&nbsp;&nbsp;&nbsp;&nbsp;&nbsp;&nbsp;&nbsp;&nbsp;&nbsp;&nbsp;&nbsp;&nbsp;&nbsp;&nbsp;&nbsp;&nbsp;&nbsp;&nbsp;&nbsp;&nbsp;&nbsp;6.1.3.2.2) File with NoDuplicate"
   ]
  },
  {
   "cell_type": "code",
   "execution_count": null,
   "metadata": {
    "collapsed": true
   },
   "outputs": [],
   "source": [
    "### CODE ###\n",
    "cd /media/sf_LAM/Data/Puce1\n",
    "python /home/lam/Documents/LAM/Scripts/filter_non_essential_mapqual.py -m metadata.txt -g mm10_Jk -o FilOutMapqual -c ../mm10_Jk_duplicate_locus.txt -t results -i NoDup > output_mm10_Jk_FilOutMapqual_NoDup.txt"
   ]
  },
  {
   "cell_type": "markdown",
   "metadata": {},
   "source": [
    "### &nbsp;&nbsp;&nbsp;&nbsp;&nbsp;&nbsp;&nbsp;&nbsp;6.2) Junctions spreading"
   ]
  },
  {
   "cell_type": "markdown",
   "metadata": {},
   "source": [
    "Junctions files are now clean from unessessary junctions. The next step is to spread these jonctions to different groups. 3 groups of junctions have been made :\n",
    "- Legitimate junctions : junctions filling your construction, what you were waiting for\n",
    "- Illegitimate junctions : junctions outside your construction but still biologicaly coherent\n",
    "- Trash junctions : junction that can not occur biologicaly, or junctions created by the construction\n",
    "\n",
    "Using these 3 groups of junctions, 4 files will be output :\n",
    "- The legitimate file : contains all the legitimate junctions with locus information for each junctions if locus option is added to the command line. The script will affect to each junction the closest locus and the junction length. All legitimate junctions have to fall into legitimate locus file positions.\n",
    "- The illegitimate file : contains illegitimate junctions not in the trash file. If a RepeatMasker file is given each junction will be confront to the RepeatMasker file to find a matching event to the junction.\n",
    "- The percent illegitimate file : contains an aggregate of junctions close to X base, called megajunction (X given by the user), plus the percentage of junctions embodied in the megajunction. Then, with the species, the release number of the reference genome and Ensembl database, each megajunction will be confront to Ensembl database to try to match gene coordinates. Gene anmes will be reported if any.\n",
    "- The trash file : contains others junctions coming from the construction itself or impossible junctions. By example, junctions below the min_gap parameters\n",
    "\n",
    "According to your construction, you could have, in your reference genome, some duplicated locus from a chromosome (donor) to an other one (acceptor). It is possible to input a duplicate file, to modify junction falling into the donor position to acceptor position, see further. "
   ]
  },
  {
   "cell_type": "markdown",
   "metadata": {},
   "source": [
    "#### &nbsp;&nbsp;&nbsp;&nbsp;&nbsp;&nbsp;&nbsp;&nbsp;&nbsp;&nbsp;&nbsp;&nbsp;&nbsp;&nbsp;&nbsp;&nbsp;6.2.1) Requirements"
   ]
  },
  {
   "cell_type": "markdown",
   "metadata": {},
   "source": [
    "##### &nbsp;&nbsp;&nbsp;&nbsp;&nbsp;&nbsp;&nbsp;&nbsp;&nbsp;&nbsp;&nbsp;&nbsp;&nbsp;&nbsp;&nbsp;&nbsp;&nbsp;&nbsp;&nbsp;&nbsp;&nbsp;&nbsp;&nbsp;&nbsp;6.2.1.1) RepeatMasker"
   ]
  },
  {
   "cell_type": "markdown",
   "metadata": {},
   "source": [
    "RepeatMasker database contains pool of information about low complexity and repeat events in multiple species. Database files are text file with chromosome information, start and end position and the event engaged in the locus."
   ]
  },
  {
   "cell_type": "markdown",
   "metadata": {
    "collapsed": true
   },
   "source": [
    "- Go to http://www.repeatmasker.org/genomicDatasets/RMGenomicDatasets.html\n",
    "- Select your species, here mouse (if you can't find it, look for an other database or process without it)\n",
    "- Right click on the last update (or the one you want) of your_species.fa.out.gz (here, mm10.fa.out.gz)\n",
    "- copy link adress (http://www.repeatmasker.org/genomes/mm10/RepeatMasker-rm405-db20140131/mm10.fa.out.gz)"
   ]
  },
  {
   "cell_type": "markdown",
   "metadata": {},
   "source": [
    "##### &nbsp;&nbsp;&nbsp;&nbsp;&nbsp;&nbsp;&nbsp;&nbsp;&nbsp;&nbsp;&nbsp;&nbsp;&nbsp;&nbsp;&nbsp;&nbsp;&nbsp;&nbsp;&nbsp;&nbsp;&nbsp;&nbsp;&nbsp;&nbsp;&nbsp;&nbsp;&nbsp;&nbsp;&nbsp;&nbsp;&nbsp;&nbsp;6.2.1.1.1) Download"
   ]
  },
  {
   "cell_type": "code",
   "execution_count": null,
   "metadata": {
    "collapsed": true
   },
   "outputs": [],
   "source": [
    "### CODE ###\n",
    "cd /media/sf_LAM/Data\n",
    "wget http://www.repeatmasker.org/genomes/mm10/RepeatMasker-rm405-db20140131/mm10.fa.out.gz"
   ]
  },
  {
   "cell_type": "markdown",
   "metadata": {},
   "source": [
    "##### &nbsp;&nbsp;&nbsp;&nbsp;&nbsp;&nbsp;&nbsp;&nbsp;&nbsp;&nbsp;&nbsp;&nbsp;&nbsp;&nbsp;&nbsp;&nbsp;&nbsp;&nbsp;&nbsp;&nbsp;&nbsp;&nbsp;&nbsp;&nbsp;&nbsp;&nbsp;&nbsp;&nbsp;&nbsp;&nbsp;&nbsp;&nbsp;6.2.1.1.2) Modification"
   ]
  },
  {
   "cell_type": "markdown",
   "metadata": {},
   "source": [
    "In this part I did not try to modify something else than mm10 and hg38 files. Maybe you will have a different file with an other species so the following command will maybe not work.<br>\n",
    "At the end we need a file with 4 columns (sequence, begin, end and class/family as header)"
   ]
  },
  {
   "cell_type": "code",
   "execution_count": null,
   "metadata": {
    "collapsed": true
   },
   "outputs": [],
   "source": [
    "### CODE ###\n",
    "# Change mm10 by your species name\n",
    "cd /media/sf_LAM/Data\n",
    "gzip -d mm10.fa.out.gz\n",
    "mv mm10.fa.out repeatMasker_mm10.fa.out\n",
    "sed 1d repeatMasker_mm10.fa.out | sed -e '1s/(left)\\s\\s\\s\\srepeat/(left)    bad_row    repeat/g' - | sed 's/^[ \\t]*//' - | sed -e \"s/[[:space:]]\\+/\\t/g\" - | sed '/^\\s*$/d' - | awk -F \"\\t\" '{print $5\"\\t\"$6\"\\t\"$7\"\\t\"$11}' - > repeatMasker_Filtered_mm10.csv"
   ]
  },
  {
   "cell_type": "markdown",
   "metadata": {},
   "source": [
    "##### &nbsp;&nbsp;&nbsp;&nbsp;&nbsp;&nbsp;&nbsp;&nbsp;&nbsp;&nbsp;&nbsp;&nbsp;&nbsp;&nbsp;&nbsp;&nbsp;&nbsp;&nbsp;&nbsp;&nbsp;&nbsp;&nbsp;&nbsp;&nbsp;6.2.1.2) Locus file"
   ]
  },
  {
   "cell_type": "markdown",
   "metadata": {
    "collapsed": true
   },
   "source": [
    "The locus file is one of the most important file in this workflow. A locus file keeps information about all locis of interest.<br>\n",
    "**The locus file do not need a header file** but here are the column of this file :<br><br>\n",
    "Chr&nbsp;&nbsp;&nbsp;&nbsp;Start&nbsp;&nbsp;&nbsp;&nbsp;End&nbsp;&nbsp;&nbsp;&nbsp;Strand&nbsp;&nbsp;&nbsp;&nbsp;Locus_name<br>\n",
    "\n",
    "- Chr : The locus chromosome\n",
    "- Start : The start position of the locus\n",
    "- End : The end position of the locus\n",
    "- Strand : The strand of the locus\n",
    "- Locus_name : The name of the locus\n",
    "\n",
    "Every locus will follow line by line, items seprated by tabulation<br>\n",
    "For example : <br><br>\n",
    "<hr size=\"1\">\n",
    "chr12&nbsp;&nbsp;&nbsp;&nbsp;113335000&nbsp;&nbsp;&nbsp;&nbsp;113336000&nbsp;&nbsp;&nbsp;&nbsp;-&nbsp;&nbsp;&nbsp;&nbsp;locus1<br>\n",
    "chr6&nbsp;&nbsp;&nbsp;&nbsp;70100000&nbsp;&nbsp;&nbsp;&nbsp;70200000&nbsp;&nbsp;&nbsp;&nbsp;+&nbsp;&nbsp;&nbsp;&nbsp;locus2<br>\n",
    "<hr size=\"1\">\n",
    "\n",
    "Save your file in /media/sf_LAM/Data\n"
   ]
  },
  {
   "cell_type": "markdown",
   "metadata": {},
   "source": [
    "##### &nbsp;&nbsp;&nbsp;&nbsp;&nbsp;&nbsp;&nbsp;&nbsp;&nbsp;&nbsp;&nbsp;&nbsp;&nbsp;&nbsp;&nbsp;&nbsp;&nbsp;&nbsp;&nbsp;&nbsp;&nbsp;&nbsp;&nbsp;&nbsp;6.2.1.3) Legitimate locus file"
   ]
  },
  {
   "cell_type": "markdown",
   "metadata": {
    "collapsed": true
   },
   "source": [
    "The legitimate locus file contains informations about the legitimate areas. Junctions inside these areas will be send to legitimate file.<br>\n",
    "**The legitimate locus file do not need a header file** but here are the column of this file :<br><br>\n",
    "Chr_bait&nbsp;&nbsp;&nbsp;&nbsp;Chr_prey&nbsp;&nbsp;&nbsp;&nbsp;Start&nbsp;&nbsp;&nbsp;&nbsp;End&nbsp;&nbsp;&nbsp;&nbsp;Area_name<br>\n",
    "\n",
    "- Chr_bait : From chromosome juntion\n",
    "- Chr_prey : To chromosome juntion\n",
    "- Start : The start of the prey chromosome\n",
    "- End : The end of the prey chromosome\n",
    "- Area_name : The name of the area\n",
    "\n",
    "Every locus will follow line by line, items seprated by tabulation<br>\n",
    "For example : <br><br>\n",
    "<hr size=\"1\">\n",
    "chr6&nbsp;&nbsp;&nbsp;&nbsp;chr12&nbsp;&nbsp;&nbsp;&nbsp;113000000&nbsp;&nbsp;&nbsp;&nbsp;116000000&nbsp;&nbsp;&nbsp;&nbsp;area1<br>\n",
    "chr6&nbsp;&nbsp;&nbsp;&nbsp;chr6&nbsp;&nbsp;&nbsp;&nbsp;67000000&nbsp;&nbsp;&nbsp;&nbsp;71000000&nbsp;&nbsp;&nbsp;&nbsp;area2<br>\n",
    "<hr size=\"1\">\n",
    "\n",
    "Save your file in /media/sf_LAM/Data\n"
   ]
  },
  {
   "cell_type": "markdown",
   "metadata": {},
   "source": [
    "##### &nbsp;&nbsp;&nbsp;&nbsp;&nbsp;&nbsp;&nbsp;&nbsp;&nbsp;&nbsp;&nbsp;&nbsp;&nbsp;&nbsp;&nbsp;&nbsp;&nbsp;&nbsp;&nbsp;&nbsp;&nbsp;&nbsp;&nbsp;&nbsp;6.2.1.4) Duplicate file"
   ]
  },
  {
   "cell_type": "markdown",
   "metadata": {
    "collapsed": true
   },
   "source": [
    "The duplicate file contains, informations about translation area occuring in a specific reference genome. Junctions inside these areas will be translated to the chosen duplicated area.<br>\n",
    "**The duplicate file do not need a header file** but here are the column of this file :<br><br>\n",
    "Chr_donor&nbsp;&nbsp;&nbsp;&nbsp;Start_donor&nbsp;&nbsp;&nbsp;&nbsp;End_donor&nbsp;&nbsp;&nbsp;&nbsp;Strand_donor&nbsp;&nbsp;&nbsp;&nbsp;Chr_acceptor&nbsp;&nbsp;&nbsp;&nbsp;Start_acceptor&nbsp;&nbsp;&nbsp;&nbsp;End_acceptor&nbsp;&nbsp;&nbsp;&nbsp;Strand_acceptor&nbsp;&nbsp;&nbsp;&nbsp;Area_name<br>\n",
    "\n",
    "- Chr_donor : From chromosome to translate junction\n",
    "- Start_donor : The start position to translate junction\n",
    "- End_donor : The end position to translate junction\n",
    "- Strand_donor : The strand of the donor area\n",
    "- Chr_acceptor : To chromosome to translate junction\n",
    "- Start_acceptor : The start position to receive junction\n",
    "- End_acceptor : The end position to receive junction\n",
    "- Strand_acceptor : The strand of the acceptor area\n",
    "- Area_name : The name fo the area\n",
    "\n",
    "Every translation donor/acceptor couple will follow line by line, items seprated by tabulation<br>\n",
    "For example : <br><br>\n",
    "<hr size=\"1\">\n",
    "chr12&nbsp;&nbsp;&nbsp;&nbsp;113423000&nbsp;&nbsp;&nbsp;&nbsp;113425000&nbsp;&nbsp;&nbsp;&nbsp;-&nbsp;&nbsp;&nbsp;&nbsp;chr6&nbsp;&nbsp;&nbsp;&nbsp;70724000&nbsp;&nbsp;&nbsp;&nbsp;70726000&nbsp;&nbsp;&nbsp;&nbsp;-&nbsp;&nbsp;&nbsp;&nbsp;area1<br>\n",
    "chr6&nbsp;&nbsp;&nbsp;&nbsp;69378000&nbsp;&nbsp;&nbsp;&nbsp;69379000&nbsp;&nbsp;&nbsp;&nbsp;+&nbsp;&nbsp;&nbsp;&nbsp;chr6&nbsp;&nbsp;&nbsp;&nbsp;70727000&nbsp;&nbsp;&nbsp;&nbsp;70728000&nbsp;&nbsp;&nbsp;&nbsp;&nbsp;+&nbsp;&nbsp;&nbsp;area2<br>\n",
    "<hr size=\"1\">\n",
    "\n",
    "Save your file in /media/sf_LAM/Data\n"
   ]
  },
  {
   "cell_type": "markdown",
   "metadata": {},
   "source": [
    "##### &nbsp;&nbsp;&nbsp;&nbsp;&nbsp;&nbsp;&nbsp;&nbsp;&nbsp;&nbsp;&nbsp;&nbsp;&nbsp;&nbsp;&nbsp;&nbsp;&nbsp;&nbsp;&nbsp;&nbsp;&nbsp;&nbsp;&nbsp;&nbsp;6.2.1.5) Install Ensembl python module"
   ]
  },
  {
   "cell_type": "markdown",
   "metadata": {
    "collapsed": true
   },
   "source": [
    "This python module will bring genes information to the percent illegitimate file. You have to choose your species (latin name), then, choose your release https://media.readthedocs.org/pdf/pyensembl/latest/pyensembl.pdf"
   ]
  },
  {
   "cell_type": "code",
   "execution_count": null,
   "metadata": {
    "collapsed": true
   },
   "outputs": [],
   "source": [
    "### CODE ###\n",
    "pyensembl install --release 87 --species mus_musculus"
   ]
  },
  {
   "cell_type": "markdown",
   "metadata": {},
   "source": [
    "#### &nbsp;&nbsp;&nbsp;&nbsp;&nbsp;&nbsp;&nbsp;&nbsp;&nbsp;&nbsp;&nbsp;&nbsp;&nbsp;&nbsp;&nbsp;&nbsp;6.2.2) Launch spreading"
   ]
  },
  {
   "cell_type": "code",
   "execution_count": null,
   "metadata": {
    "collapsed": true
   },
   "outputs": [],
   "source": [
    "### CODE ###\n",
    "cd /media/sf_LAM/Data/Puce1\n",
    "mkdir postprocess"
   ]
  },
  {
   "cell_type": "markdown",
   "metadata": {
    "collapsed": true
   },
   "source": [
    "Once you got all the requiered files, you can got to the first postprocessing step, with **split_junctions.py**"
   ]
  },
  {
   "cell_type": "code",
   "execution_count": null,
   "metadata": {},
   "outputs": [],
   "source": [
    "### INFORMATION ###\n",
    "split_junctions.py -m <metadata file> -g <genome type> -o <output mark> -p <postprocess directory> -t <results directory> -q <legitimate file> [-i <input mark> -r <reference fasta file> -c <contruction fasta file> -s <pool size> -l <locus file> -v <species name> -a <release number> -b <gap minimum> -u <repeatMasker file> -n <duplicate file>]\n",
    "    -h or --help : display this help\n",
    "    -m or --file_metadata : metadata file\n",
    "    -g or --genome : only filter librairies results with this genome\n",
    "    -o or --output_mark : mark added to the output file\n",
    "    -p or --dir_post : postprocess directory\n",
    "    -t or --dir_results : results directory\n",
    "    -q or --file_legitimate : legitimate positions (bait, prey, start, end, flag)\n",
    "    -i or --input_mark : marks from input file\n",
    "    -r or --file_reference : reference fasta file (Mandatory is modified reference genome)\n",
    "    -c or --file_construction : construction fasta file for modified genome (in $BOWTIE2_INDEXES), this option will ajust genes position to modified genome (Mandatory is modified reference genome)\n",
    "    -s or --size_pool : the number of bases between two junctions to pool them for illegitimate junctions (Default : 100)\n",
    "    -l or --file_locus : locus bed file (locus, start, end, strand, flag)\n",
    "    -v or --species : species in latin known in Ensembl database (homo_sapiens, mus_musculus...)\n",
    "    -a or --release : release number of your species known in Ensembl database (87,86...)\n",
    "    -b or --min_gap : minimum of bases between bait and prey to call junction (Default : 5)\n",
    "    -u or --file_repeat : repeatMasker library (.csv)\n",
    "    -n or --file_duplicate : duplicate area file for modified genome, this option will translate junctions from donor site to acceptor site"
   ]
  },
  {
   "cell_type": "markdown",
   "metadata": {},
   "source": [
    "##### &nbsp;&nbsp;&nbsp;&nbsp;&nbsp;&nbsp;&nbsp;&nbsp;&nbsp;&nbsp;&nbsp;&nbsp;&nbsp;&nbsp;&nbsp;&nbsp;&nbsp;&nbsp;&nbsp;&nbsp;&nbsp;&nbsp;&nbsp;&nbsp;6.2.2.1) Files with duplicates"
   ]
  },
  {
   "cell_type": "markdown",
   "metadata": {},
   "source": [
    "##### mm10"
   ]
  },
  {
   "cell_type": "code",
   "execution_count": null,
   "metadata": {
    "collapsed": true
   },
   "outputs": [],
   "source": [
    "### CODE ###\n",
    "cd /media/sf_LAM/Data/Puce1\n",
    "python /home/lam/Documents/LAM/Scripts/split_junctions.py -m metadata.txt -g mm10 -o Pool100Gap5 -p postprocess -t results -q ../mm10_legitimate.txt -i Dup -s 100 -l ../mm10_locus.txt -v mus_musculus -a 87 -b 5 -u ../repeatMasker_Filtered_mm10.csv > output_mm10_Pool100Gap5_Dup.txt"
   ]
  },
  {
   "cell_type": "markdown",
   "metadata": {},
   "source": [
    "##### mm10_Jk"
   ]
  },
  {
   "cell_type": "code",
   "execution_count": null,
   "metadata": {
    "collapsed": true
   },
   "outputs": [],
   "source": [
    "### CODE ###\n",
    "cd /media/sf_LAM/Data/Puce1\n",
    "python /home/lam/Documents/LAM/Scripts/split_junctions.py -m metadata.txt -g mm10_Jk -o Pool100Gap5 -p postprocess -t results -q ../mm10_Jk_legitimate.txt -i Dup,FilOutMapqual -r $BOWTIE2_INDEXES/mm10_Jk_filtered.fa -c ../mm10_Jk_construction.fasta -s 100 -l ../mm10_Jk_locus.txt -v mus_musculus -a 87 -b 5 -u ../repeatMasker_Filtered_mm10.csv -n ../mm10_Jk_duplicate_locus.txt > output_mm10_Jk_Pool100Gap5_FilOutMapqual_Dup.txt"
   ]
  },
  {
   "cell_type": "markdown",
   "metadata": {},
   "source": [
    "##### &nbsp;&nbsp;&nbsp;&nbsp;&nbsp;&nbsp;&nbsp;&nbsp;&nbsp;&nbsp;&nbsp;&nbsp;&nbsp;&nbsp;&nbsp;&nbsp;&nbsp;&nbsp;&nbsp;&nbsp;&nbsp;&nbsp;&nbsp;&nbsp;6.2.2.2) Files without duplicates"
   ]
  },
  {
   "cell_type": "markdown",
   "metadata": {},
   "source": [
    "##### mm10"
   ]
  },
  {
   "cell_type": "code",
   "execution_count": null,
   "metadata": {
    "collapsed": true
   },
   "outputs": [],
   "source": [
    "### CODE ###\n",
    "cd /media/sf_LAM/Data/Puce1\n",
    "python /home/lam/Documents/LAM/Scripts/split_junctions.py -m metadata.txt -g mm10 -o Pool100Gap5 -p postprocess -t results -q ../mm10_legitimate.txt -i NoDup -s 100 -l ../mm10_locus.txt -v mus_musculus -a 87 -b 5 -u ../repeatMasker_Filtered_mm10.csv > output_mm10_Pool100Gap5_NoDup.txt"
   ]
  },
  {
   "cell_type": "markdown",
   "metadata": {},
   "source": [
    "##### mm10_Jk"
   ]
  },
  {
   "cell_type": "code",
   "execution_count": null,
   "metadata": {
    "collapsed": true
   },
   "outputs": [],
   "source": [
    "### CODE ###\n",
    "cd /media/sf_LAM/Data/Puce1\n",
    "python /home/lam/Documents/LAM/Scripts/split_junctions.py -m metadata.txt -g mm10_Jk -o Pool100Gap5 -p postprocess -t results -q ../mm10_Jk_legitimate.txt -i NoDup,FilOutMapqual -r $BOWTIE2_INDEXES/mm10_Jk_filtered.fa -c ../mm10_Jk_construction.fasta -s 100 -l ../mm10_Jk_locus.txt -v mus_musculus -a 87 -b 5 -u ../repeatMasker_Filtered_mm10.csv -n ../mm10_Jk_duplicate_locus.txt > output_mm10_Jk_Pool100Gap5_FilOutMapqual_NoDup.txt"
   ]
  },
  {
   "cell_type": "markdown",
   "metadata": {},
   "source": [
    "## 7) Visualization"
   ]
  },
  {
   "cell_type": "markdown",
   "metadata": {},
   "source": [
    "### &nbsp;&nbsp;&nbsp;&nbsp;&nbsp;&nbsp;&nbsp;&nbsp;7.1) Visualization files build up"
   ]
  },
  {
   "cell_type": "markdown",
   "metadata": {},
   "source": [
    "Some visualizations need specific data files to create complete representation. To create histograms and links visualization for circos plot but also to visualize links in karyo plot. In order to get full information from plot the script **generate_visualization_files.py** will be use to generate these data files."
   ]
  },
  {
   "cell_type": "code",
   "execution_count": null,
   "metadata": {},
   "outputs": [],
   "source": [
    "### INFORMATION ###\n",
    "generate_visualization_files.py -m <metadata file> -g <genome type> -o <output mark> -r <reference fasta file> -p <postprocess directory> [-i <input mark> -s <pool size> -t <percent translocation> -b <bin size>]\n",
    "    -h or --help : display this help\n",
    "    -m or --file_metadata : metadata file\n",
    "    -g or --genome : only filter librairies results with this genome\n",
    "    -o or --output_mark : mark added to the output file\n",
    "    -r or --file_reference : reference fasta file\n",
    "    -p or --dir_post : postprocess directory\n",
    "    -i or --input_mark : marks from input file\n",
    "    -s or --size_pool : the number of bases between two junctions to pool them for illegitimate junctions (Default : 100)\n",
    "    -t or --percent_transloc : percentage of translocation insane a size_pool to be display as link on Circos plot (Default : 2.0)\n",
    "    -b or --bin_size : size of bins to create histogram on Circos plot (Default : 5000000)"
   ]
  },
  {
   "cell_type": "markdown",
   "metadata": {},
   "source": [
    "#### &nbsp;&nbsp;&nbsp;&nbsp;&nbsp;&nbsp;&nbsp;&nbsp;&nbsp;&nbsp;&nbsp;&nbsp;&nbsp;&nbsp;&nbsp;&nbsp;7.1.1) Files with duplicates"
   ]
  },
  {
   "cell_type": "markdown",
   "metadata": {},
   "source": [
    "##### mm10"
   ]
  },
  {
   "cell_type": "code",
   "execution_count": null,
   "metadata": {
    "collapsed": true
   },
   "outputs": [],
   "source": [
    "### CODE ###\n",
    "cd /media/sf_LAM/Data/Puce1\n",
    "python /home/lam/Documents/LAM/Scripts/generate_visualization_files.py -m metadata.txt -g mm10 -o Pool100Perc2Bin5M -r $BOWTIE2_INDEXES/mm10_filtered.fa -p postprocess -i Dup,Pool100Gap5 -s 100 -t 2 -b 5000000 > output_mm10_Pool100Perc2Bin5M_Pool100Gap5_Dup.txt"
   ]
  },
  {
   "cell_type": "markdown",
   "metadata": {},
   "source": [
    "##### mm10_Jk"
   ]
  },
  {
   "cell_type": "code",
   "execution_count": null,
   "metadata": {
    "collapsed": true
   },
   "outputs": [],
   "source": [
    "### CODE ###\n",
    "cd /media/sf_LAM/Data/Puce1\n",
    "python /home/lam/Documents/LAM/Scripts/generate_visualization_files.py -m metadata.txt -g mm10_Jk -o Pool100Perc2Bin5M -r $BOWTIE2_INDEXES/mm10_Jk_filtered.fa -p postprocess -i Dup,FilOutMapqual,Pool100Gap5 -s 100 -t 2 -b 5000000 > output_mm10_Jk_Pool100Perc2Bin5M_Pool100Gap5_FilOutMapqual_Dup.txt"
   ]
  },
  {
   "cell_type": "markdown",
   "metadata": {},
   "source": [
    "#### &nbsp;&nbsp;&nbsp;&nbsp;&nbsp;&nbsp;&nbsp;&nbsp;&nbsp;&nbsp;&nbsp;&nbsp;&nbsp;&nbsp;&nbsp;&nbsp;7.1.2) Files without duplicates"
   ]
  },
  {
   "cell_type": "markdown",
   "metadata": {},
   "source": [
    "##### mm10"
   ]
  },
  {
   "cell_type": "code",
   "execution_count": null,
   "metadata": {
    "collapsed": true
   },
   "outputs": [],
   "source": [
    "### CODE ###\n",
    "cd /media/sf_LAM/Data/Puce1\n",
    "python /home/lam/Documents/LAM/Scripts/generate_visualization_files.py -m metadata.txt -g mm10 -o Pool100Perc2Bin5M -r $BOWTIE2_INDEXES/mm10_filtered.fa -p postprocess -i NoDup,Pool100Gap5 -s 100 -t 2 -b 5000000 > output_mm10_Pool100Perc2Bin5M_Pool100Gap5_NoDup.txt"
   ]
  },
  {
   "cell_type": "markdown",
   "metadata": {},
   "source": [
    "##### mm10_Jk"
   ]
  },
  {
   "cell_type": "code",
   "execution_count": null,
   "metadata": {
    "collapsed": true
   },
   "outputs": [],
   "source": [
    "### CODE ###\n",
    "cd /media/sf_LAM/Data/Puce1\n",
    "python /home/lam/Documents/LAM/Scripts/generate_visualization_files.py -m metadata.txt -g mm10_Jk -o Pool100Perc2Bin5M -r $BOWTIE2_INDEXES/mm10_Jk_filtered.fa -p postprocess -i NoDup,FilOutMapqual,Pool100Gap5 -s 100 -t 2 -b 5000000 > output_mm10_Jk_Pool100Perc2Bin5M_Pool100Gap5_FilOutMapqual_NoDup.txt"
   ]
  },
  {
   "cell_type": "markdown",
   "metadata": {},
   "source": [
    "### &nbsp;&nbsp;&nbsp;&nbsp;&nbsp;&nbsp;&nbsp;&nbsp;7.2) Circos plot"
   ]
  },
  {
   "cell_type": "markdown",
   "metadata": {},
   "source": [
    "The Circos representation is a way to display data and information in a circular layout. This is ideal for exploring connections and relationships between objects and positions. The whole genome of the species studied will be display in a circle chromosome by chromosome and links will be made between positions to reflect double strand breaks."
   ]
  },
  {
   "cell_type": "markdown",
   "metadata": {},
   "source": [
    "#### &nbsp;&nbsp;&nbsp;&nbsp;&nbsp;&nbsp;&nbsp;&nbsp;&nbsp;&nbsp;&nbsp;&nbsp;&nbsp;&nbsp;&nbsp;&nbsp;7.2.1) Cytoband information"
   ]
  },
  {
   "cell_type": "markdown",
   "metadata": {
    "collapsed": true
   },
   "source": [
    "- This script use data from UCSC (http://genome.ucsc.edu)\n",
    "- Go to http://hgdownload.cse.ucsc.edu/downloads.html and look for your species\n",
    "- Click on \"Annotation database\" of the last release and copy the URL of the web page (http://hgdownload.cse.ucsc.edu/goldenPath/mm10/database/)\n",
    "- Run to command below"
   ]
  },
  {
   "cell_type": "markdown",
   "metadata": {
    "collapsed": true
   },
   "source": [
    "<b>Example for mm10</b>"
   ]
  },
  {
   "cell_type": "code",
   "execution_count": null,
   "metadata": {
    "collapsed": true
   },
   "outputs": [],
   "source": [
    "### CODE ###\n",
    "cd /media/sf_LAM/Data/\n",
    "wget ftp://hgdownload.cse.ucsc.edu/goldenPath/mm10/database/cytoBandIdeo.txt.gz\n",
    "gunzip cytoBandIdeo.txt.gz"
   ]
  },
  {
   "cell_type": "markdown",
   "metadata": {
    "collapsed": true
   },
   "source": [
    "As for 2.6.5) we will filter out \"no conventional\" chromosome out from cytoband file.<br>\n",
    "If you have a modified genome, you will have to transform your cytoband file to match your modified reference genome."
   ]
  },
  {
   "cell_type": "markdown",
   "metadata": {
    "collapsed": true
   },
   "source": [
    "For both normal reference and modified reference, the script **modiy_cytoband.py** will manage the cytoband file to fit your data."
   ]
  },
  {
   "cell_type": "code",
   "execution_count": null,
   "metadata": {},
   "outputs": [],
   "source": [
    "### INFORMATION ###\n",
    "modify_cytoband.py -g <genome type> -r <reference fasta file> -y <cytoband file> [-c <contruction fasta file>]\n",
    "    -h or --help : display this help\n",
    "    -g or --genome : will add the genome to the cytoband file\n",
    "    -r or --file_reference : reference fasta file\n",
    "    -y or --file_cytoband : cytoband file\n",
    "    -c or --file_construction : construction fasta file for modified genome (in $BOWTIE2_INDEXES)"
   ]
  },
  {
   "cell_type": "markdown",
   "metadata": {
    "collapsed": true
   },
   "source": [
    "You should, at the end, get a .txt file openable under a sheet table. This table contains 5 columns (Chromosome, Start, End, Band and Stain).<br>\n",
    "For some species, Band and/or Stain are not available. I suggest you to add blanck columns to the cytoband file."
   ]
  },
  {
   "cell_type": "markdown",
   "metadata": {},
   "source": [
    "##### &nbsp;&nbsp;&nbsp;&nbsp;&nbsp;&nbsp;&nbsp;&nbsp;&nbsp;&nbsp;&nbsp;&nbsp;&nbsp;&nbsp;&nbsp;&nbsp;&nbsp;&nbsp;&nbsp;&nbsp;&nbsp;&nbsp;&nbsp;&nbsp;7.2.1.1) Filter normal genome (mm10)"
   ]
  },
  {
   "cell_type": "code",
   "execution_count": null,
   "metadata": {
    "collapsed": true
   },
   "outputs": [],
   "source": [
    "### CODE ###\n",
    "###Remove secondary assemblies from reference genome\n",
    "cd /media/sf_LAM/Data/\n",
    "python /home/lam/Documents/LAM/Scripts/modify_cytoband.py -g mm10 -r $BOWTIE2_INDEXES/mm10_filtered.fa -y cytoBandIdeo.txt"
   ]
  },
  {
   "cell_type": "markdown",
   "metadata": {},
   "source": [
    "##### &nbsp;&nbsp;&nbsp;&nbsp;&nbsp;&nbsp;&nbsp;&nbsp;&nbsp;&nbsp;&nbsp;&nbsp;&nbsp;&nbsp;&nbsp;&nbsp;&nbsp;&nbsp;&nbsp;&nbsp;&nbsp;&nbsp;&nbsp;&nbsp;7.2.1.2) Modify cytoband information"
   ]
  },
  {
   "cell_type": "code",
   "execution_count": null,
   "metadata": {
    "collapsed": true
   },
   "outputs": [],
   "source": [
    "### CODE ###\n",
    "###Remove secondary assemblies from reference genome\n",
    "##Use the genomic construction to create new cytoband\n",
    "cd /media/sf_LAM/Data/\n",
    "python /home/lam/Documents/LAM/Scripts/modify_cytoband.py -g mm10_Jk -r $BOWTIE2_INDEXES/mm10_Jk_filtered.fa -y cytoBandIdeo.txt -c mm10_Jk_construction.fasta"
   ]
  },
  {
   "cell_type": "markdown",
   "metadata": {},
   "source": [
    "#### &nbsp;&nbsp;&nbsp;&nbsp;&nbsp;&nbsp;&nbsp;&nbsp;&nbsp;&nbsp;&nbsp;&nbsp;&nbsp;&nbsp;&nbsp;&nbsp;7.2.2) Circos plot creation"
   ]
  },
  {
   "cell_type": "markdown",
   "metadata": {
    "collapsed": true
   },
   "source": [
    "All requirements are completed, it is now possible to create the circos plot representation for each library, using **circos_plot.R**"
   ]
  },
  {
   "cell_type": "code",
   "execution_count": null,
   "metadata": {},
   "outputs": [],
   "source": [
    "### INFORMATION ###\n",
    "circos_plot.R -m <metadata file> -g <genome type> -o <output mark> -p <postprocess directory> -y <cytoband file> [-i <input mark>]\n",
    "    -h or --help : display this help\n",
    "    -m or --file_metadata : metadata file\n",
    "    -g or --genome : only filter librairies results with this genome\n",
    "    -o or --output_mark : mark added to the output file\n",
    "    -p or --dir_post : postprocess directory \n",
    "    -y or --file_cytoband : cytoband file\n",
    "    -i or --input_mark : marks from input file"
   ]
  },
  {
   "cell_type": "markdown",
   "metadata": {},
   "source": [
    "##### &nbsp;&nbsp;&nbsp;&nbsp;&nbsp;&nbsp;&nbsp;&nbsp;&nbsp;&nbsp;&nbsp;&nbsp;&nbsp;&nbsp;&nbsp;&nbsp;&nbsp;&nbsp;&nbsp;&nbsp;&nbsp;&nbsp;&nbsp;&nbsp;7.2.2.1) Files with duplicates"
   ]
  },
  {
   "cell_type": "markdown",
   "metadata": {},
   "source": [
    "##### mm10"
   ]
  },
  {
   "cell_type": "code",
   "execution_count": null,
   "metadata": {
    "collapsed": true
   },
   "outputs": [],
   "source": [
    "### CODE ###\n",
    "cd /media/sf_LAM/Data/Puce1\n",
    "/home/lam/Documents/LAM/Scripts/circos_plot.R -m metadata.txt -g mm10 -o Circos -p postprocess -y ../mm10_cytoBandIdeo.txt -i Dup,Pool100Gap5,Pool100Perc2Bin5M > output_mm10_Circos_Pool100Perc2Bin5M_Pool100Gap5_Dup.txt 2>&1 "
   ]
  },
  {
   "cell_type": "markdown",
   "metadata": {},
   "source": [
    "##### mm10_Jk"
   ]
  },
  {
   "cell_type": "code",
   "execution_count": null,
   "metadata": {
    "collapsed": true
   },
   "outputs": [],
   "source": [
    "### CODE ###\n",
    "cd /media/sf_LAM/Data/Puce1\n",
    "/home/lam/Documents/LAM/Scripts/circos_plot.R -m metadata.txt -g mm10_Jk -o Circos -p postprocess -y ../mm10_Jk_cytoBandIdeo.txt -i Dup,FilOutMapqual,Pool100Gap5,Pool100Perc2Bin5M > output_mm10_Jk_Circos_Pool100Perc2Bin5M_Pool100Gap5_FilOutMapqual_Dup.txt 2>&1 "
   ]
  },
  {
   "cell_type": "markdown",
   "metadata": {},
   "source": [
    "##### &nbsp;&nbsp;&nbsp;&nbsp;&nbsp;&nbsp;&nbsp;&nbsp;&nbsp;&nbsp;&nbsp;&nbsp;&nbsp;&nbsp;&nbsp;&nbsp;&nbsp;&nbsp;&nbsp;&nbsp;&nbsp;&nbsp;&nbsp;&nbsp;7.2.2.2) Files without duplicates"
   ]
  },
  {
   "cell_type": "markdown",
   "metadata": {},
   "source": [
    "##### mm10"
   ]
  },
  {
   "cell_type": "code",
   "execution_count": null,
   "metadata": {
    "collapsed": true
   },
   "outputs": [],
   "source": [
    "### CODE ###\n",
    "cd /media/sf_LAM/Data/Puce1\n",
    "/home/lam/Documents/LAM/Scripts/circos_plot.R -f metadata.txt -k postprocess -m Circos -g mm10 -c ../mm10_cytoBandIdeo.txt -n NoDup,Pool100Gap5,Pool100Perc2Bin5M > output_mm10_Circos_Pool100Perc2Bin5M_Pool100Gap5_NoDup.txt 2>&1 "
   ]
  },
  {
   "cell_type": "markdown",
   "metadata": {},
   "source": [
    "##### mm10_Jk"
   ]
  },
  {
   "cell_type": "code",
   "execution_count": null,
   "metadata": {
    "collapsed": true
   },
   "outputs": [],
   "source": [
    "### CODE ###\n",
    "cd /media/sf_LAM/Data/Puce1\n",
    "/home/lam/Documents/LAM/Scripts/circos_plot.R -f metadata.txt -k postprocess -m Circos -g mm10_Jk -c ../mm10_Jk_cytoBandIdeo.txt -n NoDup,FilOutMapqual,Pool100Gap5,Pool100Perc2Bin5M > output_mm10_Jk_Circos_Pool100Perc2Bin5M_Pool100Gap5_FilOutMapqual_NoDup.txt 2>&1 "
   ]
  },
  {
   "cell_type": "markdown",
   "metadata": {},
   "source": [
    "### &nbsp;&nbsp;&nbsp;&nbsp;&nbsp;&nbsp;&nbsp;&nbsp;7.3) Karyo plot"
   ]
  },
  {
   "cell_type": "markdown",
   "metadata": {},
   "source": [
    "#### &nbsp;&nbsp;&nbsp;&nbsp;&nbsp;&nbsp;&nbsp;&nbsp;&nbsp;&nbsp;&nbsp;&nbsp;&nbsp;&nbsp;&nbsp;&nbsp;7.3.1) Genome length creation"
   ]
  },
  {
   "cell_type": "markdown",
   "metadata": {},
   "source": [
    "##### mm10"
   ]
  },
  {
   "cell_type": "code",
   "execution_count": null,
   "metadata": {
    "collapsed": true
   },
   "outputs": [],
   "source": [
    "### CODE ###\n",
    "cd /media/sf_LAM/Data/\n",
    "samtools faidx $BOWTIE2_INDEXES/mm10_filtered.fa && echo -e \"chr\\tstart\\tend\\n$(awk -F \"\\t\" '{print $1\"\\t1\\t\"$2}' $BOWTIE2_INDEXES/mm10_filtered.fa.fai)\\n\" > mm10_length.txt && rm $BOWTIE2_INDEXES/mm10_filtered.fa.fai"
   ]
  },
  {
   "cell_type": "markdown",
   "metadata": {},
   "source": [
    "##### mm10_Jk"
   ]
  },
  {
   "cell_type": "code",
   "execution_count": null,
   "metadata": {
    "collapsed": true
   },
   "outputs": [],
   "source": [
    "### CODE ###\n",
    "cd /media/sf_LAM/Data/\n",
    "samtools faidx $BOWTIE2_INDEXES/mm10_Jk_filtered.fa && echo -e \"chr\\tstart\\tend\\n$(awk -F \"\\t\" '{print $1\"\\t1\\t\"$2}' $BOWTIE2_INDEXES/mm10_Jk_filtered.fa.fai)\\n\" > mm10_Jk_length.txt && rm $BOWTIE2_INDEXES/mm10_Jk_filtered.fa.fai"
   ]
  },
  {
   "cell_type": "markdown",
   "metadata": {},
   "source": [
    "#### &nbsp;&nbsp;&nbsp;&nbsp;&nbsp;&nbsp;&nbsp;&nbsp;&nbsp;&nbsp;&nbsp;&nbsp;&nbsp;&nbsp;&nbsp;&nbsp;7.3.2) Karyo plot creation"
   ]
  },
  {
   "cell_type": "markdown",
   "metadata": {},
   "source": [
    "##### &nbsp;&nbsp;&nbsp;&nbsp;&nbsp;&nbsp;&nbsp;&nbsp;&nbsp;&nbsp;&nbsp;&nbsp;&nbsp;&nbsp;&nbsp;&nbsp;&nbsp;&nbsp;&nbsp;&nbsp;&nbsp;&nbsp;&nbsp;&nbsp;7.3.2.1) Files with duplicates"
   ]
  },
  {
   "cell_type": "markdown",
   "metadata": {},
   "source": [
    "##### mm10"
   ]
  },
  {
   "cell_type": "code",
   "execution_count": null,
   "metadata": {
    "collapsed": true
   },
   "outputs": [],
   "source": [
    "### CODE ###\n",
    "###ALL GENOME\n",
    "cd /media/sf_LAM/Data/Puce1\n",
    "/home/lam/Documents/LAM/Scripts/karyotype_plot.R -f metadata.txt -k postprocess -m Karyo_All -g mm10 -t 0.2 -z 100 -r $BOWTIE2_INDEXES/mm10_filtered.fa -l ../mm10_length.txt -c ../mm10_cytoBandIdeo.txt -b all -p all -u -v full_genome -d -n Dup,Pool100Gap5,Pool100Perc2Bin5M > output_mm10_Karyo_All_02Thres_Pool100Perc2Bin5M_Pool100Gap5_Dup.txt 2>&1"
   ]
  },
  {
   "cell_type": "code",
   "execution_count": null,
   "metadata": {
    "collapsed": true
   },
   "outputs": [],
   "source": [
    "### CODE ###\n",
    "###chr12\n",
    "cd /media/sf_LAM/Data/Puce1\n",
    "/home/lam/Documents/LAM/Scripts/karyotype_plot.R -f metadata.txt -k postprocess -m Karyo_Selected_Chromosomes -g mm10 -t 0.2 -z 100 -r $BOWTIE2_INDEXES/mm10_filtered.fa -l ../mm10_length.txt -c ../mm10_cytoBandIdeo.txt -b chr12 -p chr12 -u -v selected_chromosomes -d -n Dup,Pool100Gap5,Pool100Perc2Bin5M > output_mm10_Karyo_Selected_Chromosomes_02Thres_Pool100Perc2Bin5M_Pool100Gap5_Dup.txt 2>&1"
   ]
  },
  {
   "cell_type": "code",
   "execution_count": null,
   "metadata": {
    "collapsed": true
   },
   "outputs": [],
   "source": [
    "### CODE ###\n",
    "###chr12:113200000:113500000\n",
    "cd /media/sf_LAM/Data/Puce1\n",
    "/home/lam/Documents/LAM/Scripts/karyotype_plot.R -f metadata.txt -k postprocess -m Karyo_Zoom_In -g mm10 -t 0.2 -z 100 -r $BOWTIE2_INDEXES/mm10_filtered.fa -l ../mm10_length.txt -c ../mm10_cytoBandIdeo.txt -b chr12:113200000:113500000 -p chr12:113200000:113500000 -u -v zoom_in -a ../mm10_rename_igh.txt -s ../mm10_locus.txt -d -n Dup,Pool100Gap5,Pool100Perc2Bin5M > output_mm10_Karyo_Zoom_In_02Thres_Pool100Perc2Bin5M_Pool100Gap5_Dup.txt 2>&1"
   ]
  },
  {
   "cell_type": "markdown",
   "metadata": {},
   "source": [
    "##### mm10_Jk"
   ]
  },
  {
   "cell_type": "code",
   "execution_count": null,
   "metadata": {
    "collapsed": true
   },
   "outputs": [],
   "source": [
    "### CODE ###\n",
    "###ALL GENOME\n",
    "cd /media/sf_LAM/Data/Puce1\n",
    "/home/lam/Documents/LAM/Scripts/karyotype_plot.R -f metadata.txt -k postprocess -m Karyo_All -g mm10_Jk -t 0.2 -z 100 -r $BOWTIE2_INDEXES/mm10_Jk_filtered.fa -l ../mm10_Jk_length.txt -c ../mm10_Jk_cytoBandIdeo.txt -b all -p all -u -v full_genome -i ../mm10_Jk_construction.fasta -d -n Dup,FilOutMapqual,Pool100Gap5,Pool100Perc2Bin5M > output_mm10_Jk_Karyo_All_02Thres_Pool100Perc2Bin5M_Pool100Gap5_FilOutMapqual_Dup.txt 2>&1 "
   ]
  },
  {
   "cell_type": "code",
   "execution_count": null,
   "metadata": {
    "collapsed": true
   },
   "outputs": [],
   "source": [
    "### CODE ###\n",
    "###chr6-chr12\n",
    "cd /media/sf_LAM/Data/Puce1\n",
    "/home/lam/Documents/LAM/Scripts/karyotype_plot.R -f metadata.txt -k postprocess -m Karyo_Selected_Chromosomes -g mm10_Jk -t 0.2 -z 100 -r $BOWTIE2_INDEXES/mm10_Jk_filtered.fa -l ../mm10_Jk_length.txt -c ../mm10_Jk_cytoBandIdeo.txt -b chr6 -p chr6,chr12 -u -v selected_chromosomes -i ../mm10_Jk_construction.fasta -d -n Dup,FilOutMapqual,Pool100Gap5,Pool100Perc2Bin5M > output_mm10_Jk_Karyo_Selected_Chromosomes_02Thres_Pool100Perc2Bin5M_Pool100Gap5_FilOutMapqual_Dup.txt 2>&1"
   ]
  },
  {
   "cell_type": "code",
   "execution_count": null,
   "metadata": {
    "collapsed": true
   },
   "outputs": [],
   "source": [
    "### CODE ###\n",
    "###chr6:70723910:70735540,chr12:113200000:113500000\n",
    "cd /media/sf_LAM/Data/Puce1\n",
    "/home/lam/Documents/LAM/Scripts/karyotype_plot.R -f metadata.txt -k postprocess -m Karyo_Zoom_In -g mm10_Jk -t 0.2 -z 100 -r $BOWTIE2_INDEXES/mm10_Jk_filtered.fa -l ../mm10_Jk_length.txt -c ../mm10_Jk_cytoBandIdeo.txt -b chr6:70723910:70735540 -p chr6:70723910:70735540,chr12:113200000:113500000 -u -v zoom_in -a ../mm10_Jk_rename_igh.txt -s ../mm10_Jk_locus.txt -e -i ../mm10_Jk_construction.fasta -d -n Dup,FilOutMapqual,Pool100Gap5,Pool100Perc2Bin5M > output_mm10_Jk_Karyo_Zoom_In_02Thres_Pool100Perc2Bin5M_Pool100Gap5_FilOutMapqual_Dup.txt 2>&1"
   ]
  },
  {
   "cell_type": "markdown",
   "metadata": {},
   "source": [
    "##### &nbsp;&nbsp;&nbsp;&nbsp;&nbsp;&nbsp;&nbsp;&nbsp;&nbsp;&nbsp;&nbsp;&nbsp;&nbsp;&nbsp;&nbsp;&nbsp;&nbsp;&nbsp;&nbsp;&nbsp;&nbsp;&nbsp;&nbsp;&nbsp;7.3.2.2) Files without duplicates"
   ]
  },
  {
   "cell_type": "markdown",
   "metadata": {},
   "source": [
    "##### mm10"
   ]
  },
  {
   "cell_type": "code",
   "execution_count": null,
   "metadata": {
    "collapsed": true
   },
   "outputs": [],
   "source": [
    "### CODE ###\n",
    "###ALL GENOME\n",
    "cd /media/sf_LAM/Data/Puce1\n",
    "/home/lam/Documents/LAM/Scripts/karyotype_plot.R -f metadata.txt -k postprocess -m Karyo_All -g mm10 -t 0.2 -z 100 -r $BOWTIE2_INDEXES/mm10_filtered.fa -l ../mm10_length.txt -c ../mm10_cytoBandIdeo.txt -b all -p all -u -v full_genome -d -n NoDup,Pool100Gap5,Pool100Perc2Bin5M > output_mm10_Karyo_All_02Thres_Pool100Perc2Bin5M_Pool100Gap5_NoDup.txt 2>&1"
   ]
  },
  {
   "cell_type": "code",
   "execution_count": null,
   "metadata": {
    "collapsed": true
   },
   "outputs": [],
   "source": [
    "### CODE ###\n",
    "###chr12\n",
    "cd /media/sf_LAM/Data/Puce1\n",
    "/home/lam/Documents/LAM/Scripts/karyotype_plot.R -f metadata.txt -k postprocess -m Karyo_Selected_Chromosomes -g mm10 -t 0.2 -z 100 -r $BOWTIE2_INDEXES/mm10_filtered.fa -l ../mm10_length.txt -c ../mm10_cytoBandIdeo.txt -b chr12 -p chr12 -u -v selected_chromosomes -d -n NoDup,Pool100Gap5,Pool100Perc2Bin5M > output_mm10_Karyo_Selected_Chromosomes_02Thres_Pool100Perc2Bin5M_Pool100Gap5_NoDup.txt 2>&1"
   ]
  },
  {
   "cell_type": "code",
   "execution_count": null,
   "metadata": {
    "collapsed": true
   },
   "outputs": [],
   "source": [
    "### CODE ###\n",
    "###chr12:113200000:113500000\n",
    "cd /media/sf_LAM/Data/Puce1\n",
    "/home/lam/Documents/LAM/Scripts/karyotype_plot.R -f metadata.txt -k postprocess -m Karyo_Zoom_In -g mm10 -t 0.2 -z 100 -r $BOWTIE2_INDEXES/mm10_filtered.fa -l ../mm10_length.txt -c ../mm10_cytoBandIdeo.txt -b chr12:113200000:113500000 -p chr12:113200000:113500000 -u -v zoom_in -a ../mm10_rename_igh.txt -s ../mm10_locus.txt -d -n NoDup,Pool100Gap5,Pool100Perc2Bin5M > output_mm10_Karyo_Zoom_In_02Thres_Pool100Perc2Bin5M_Pool100Gap5_NoDup.txt 2>&1"
   ]
  },
  {
   "cell_type": "markdown",
   "metadata": {},
   "source": [
    "##### mm10_Jk"
   ]
  },
  {
   "cell_type": "code",
   "execution_count": null,
   "metadata": {
    "collapsed": true
   },
   "outputs": [],
   "source": [
    "### CODE ###\n",
    "###ALL GENOME\n",
    "cd /media/sf_LAM/Data/Puce1\n",
    "/home/lam/Documents/LAM/Scripts/karyotype_plot.R -f metadata.txt -k postprocess -m Karyo_All -g mm10_Jk -t 0.2 -z 100 -r $BOWTIE2_INDEXES/mm10_Jk_filtered.fa -l ../mm10_Jk_length.txt -c ../mm10_Jk_cytoBandIdeo.txt -b all -p all -u -v full_genome -i ../mm10_Jk_construction.fasta -d -n NoDup,FilOutMapqual,Pool100Gap5,Pool100Perc2Bin5M > output_mm10_Jk_Karyo_All_02Thres_Pool100Perc2Bin5M_Pool100Gap5_FilOutMapqual_NoDup.txt 2>&1 "
   ]
  },
  {
   "cell_type": "code",
   "execution_count": null,
   "metadata": {
    "collapsed": true
   },
   "outputs": [],
   "source": [
    "### CODE ###\n",
    "###chr6-chr12\n",
    "cd /media/sf_LAM/Data/Puce1\n",
    "/home/lam/Documents/LAM/Scripts/karyotype_plot.R -f metadata.txt -k postprocess -m Karyo_Selected_Chromosomes -g mm10_Jk -t 0.2 -z 100 -r $BOWTIE2_INDEXES/mm10_Jk_filtered.fa -l ../mm10_Jk_length.txt -c ../mm10_Jk_cytoBandIdeo.txt -b chr6 -p chr6,chr12 -u -v selected_chromosomes -i ../mm10_Jk_construction.fasta -d -n NoDup,FilOutMapqual,Pool100Gap5,Pool100Perc2Bin5M > output_mm10_Jk_Karyo_Selected_Chromosomes_02Thres_Pool100Perc2Bin5M_Pool100Gap5_FilOutMapqual_NoDup.txt 2>&1"
   ]
  },
  {
   "cell_type": "code",
   "execution_count": null,
   "metadata": {
    "collapsed": true
   },
   "outputs": [],
   "source": [
    "### CODE ###\n",
    "###chr6:70723910:70735540,chr12:113200000:113500000\n",
    "cd /media/sf_LAM/Data/Puce1\n",
    "/home/lam/Documents/LAM/Scripts/karyotype_plot.R -f metadata.txt -k postprocess -m Karyo_Zoom_In -g mm10_Jk -t 0.2 -z 100 -r $BOWTIE2_INDEXES/mm10_Jk_filtered.fa -l ../mm10_Jk_length.txt -c ../mm10_Jk_cytoBandIdeo.txt -b chr6:70723910:70735540 -p chr6:70723910:70735540,chr12:113200000:113500000 -u -v zoom_in -a ../mm10_Jk_rename_igh.txt -s ../mm10_Jk_locus.txt -e -i ../mm10_Jk_construction.fasta -d -n NoDup,FilOutMapqual,Pool100Gap5,Pool100Perc2Bin5M > output_mm10_Jk_Karyo_Zoom_In_02Thres_Pool100Perc2Bin5M_Pool100Gap5_FilOutMapqual_NoDup.txt 2>&1"
   ]
  },
  {
   "cell_type": "markdown",
   "metadata": {},
   "source": [
    "### &nbsp;&nbsp;&nbsp;&nbsp;&nbsp;&nbsp;&nbsp;&nbsp;7.4) CSReport"
   ]
  },
  {
   "cell_type": "markdown",
   "metadata": {},
   "source": [
    "#### &nbsp;&nbsp;&nbsp;&nbsp;&nbsp;&nbsp;&nbsp;&nbsp;&nbsp;&nbsp;&nbsp;&nbsp;&nbsp;&nbsp;&nbsp;&nbsp;7.4.1) Extract locus sequences"
   ]
  },
  {
   "cell_type": "markdown",
   "metadata": {},
   "source": [
    "##### &nbsp;&nbsp;&nbsp;&nbsp;&nbsp;&nbsp;&nbsp;&nbsp;&nbsp;&nbsp;&nbsp;&nbsp;&nbsp;&nbsp;&nbsp;&nbsp;&nbsp;&nbsp;&nbsp;&nbsp;&nbsp;&nbsp;&nbsp;&nbsp;7.4.1.1) Files with duplicates"
   ]
  },
  {
   "cell_type": "markdown",
   "metadata": {},
   "source": [
    "##### mm10"
   ]
  },
  {
   "cell_type": "code",
   "execution_count": null,
   "metadata": {
    "collapsed": true
   },
   "outputs": [],
   "source": [
    "### CODE ###\n",
    "cd /media/sf_LAM/Data/Puce1\n",
    "python /home/lam/Documents/LAM/Scripts/extract_locis_sequences.py -f metadata.txt -k postprocess -l ../mm10_locus.txt -g mm10 -n Dup,Pool100Gap5 > output_mm10_Sequences_Pool100Gap5_Dup.txt"
   ]
  },
  {
   "cell_type": "markdown",
   "metadata": {},
   "source": [
    "##### mm10_Jk"
   ]
  },
  {
   "cell_type": "code",
   "execution_count": null,
   "metadata": {
    "collapsed": true
   },
   "outputs": [],
   "source": [
    "### CODE ###\n",
    "cd /media/sf_LAM/Data/Puce1\n",
    "python /home/lam/Documents/LAM/Scripts/extract_locis_sequences.py -f metadata.txt -k postprocess -l ../mm10_Jk_locus.txt -g mm10_Jk -n Dup,FilOutMapqual,Pool100Gap5 > output_mm10_Jk_Sequences_Pool100Gap5_FilOutMapqual_Dup.txt"
   ]
  },
  {
   "cell_type": "markdown",
   "metadata": {},
   "source": [
    "##### &nbsp;&nbsp;&nbsp;&nbsp;&nbsp;&nbsp;&nbsp;&nbsp;&nbsp;&nbsp;&nbsp;&nbsp;&nbsp;&nbsp;&nbsp;&nbsp;&nbsp;&nbsp;&nbsp;&nbsp;&nbsp;&nbsp;&nbsp;&nbsp;7.4.1.2) Files without duplicates"
   ]
  },
  {
   "cell_type": "markdown",
   "metadata": {},
   "source": [
    "##### mm10"
   ]
  },
  {
   "cell_type": "code",
   "execution_count": null,
   "metadata": {
    "collapsed": true
   },
   "outputs": [],
   "source": [
    "### CODE ###\n",
    "cd /media/sf_LAM/Data/Puce1\n",
    "python /home/lam/Documents/LAM/Scripts/extract_locis_sequences.py -f metadata.txt -k postprocess -l ../mm10_locus.txt -g mm10 -n NoDup,Pool100Gap5 > output_mm10_Sequences_Pool100Gap5_NoDup.txt"
   ]
  },
  {
   "cell_type": "markdown",
   "metadata": {},
   "source": [
    "##### mm10_Jk"
   ]
  },
  {
   "cell_type": "code",
   "execution_count": null,
   "metadata": {
    "collapsed": true
   },
   "outputs": [],
   "source": [
    "### CODE ###\n",
    "cd /media/sf_LAM/Data/Puce1\n",
    "python /home/lam/Documents/LAM/Scripts/extract_locis_sequences.py -f metadata.txt -k postprocess -l ../mm10_Jk_locus.txt -g mm10_Jk -n NoDup,FilOutMapqual,Pool100Gap5 > output_mm10_Jk_Sequences_Pool100Gap5_FilOutMapqual_NoDup.txt"
   ]
  },
  {
   "cell_type": "markdown",
   "metadata": {},
   "source": [
    "#### &nbsp;&nbsp;&nbsp;&nbsp;&nbsp;&nbsp;&nbsp;&nbsp;&nbsp;&nbsp;&nbsp;&nbsp;&nbsp;&nbsp;&nbsp;&nbsp;7.4.2) Get CSReport"
   ]
  },
  {
   "cell_type": "code",
   "execution_count": null,
   "metadata": {
    "collapsed": true
   },
   "outputs": [],
   "source": [
    "### CODE ###\n",
    "cd /home/lam/Documents/LAM/Scripts/\n",
    "###Copy/Paste CSReport in this folder"
   ]
  },
  {
   "cell_type": "markdown",
   "metadata": {},
   "source": [
    "#### &nbsp;&nbsp;&nbsp;&nbsp;&nbsp;&nbsp;&nbsp;&nbsp;&nbsp;&nbsp;&nbsp;&nbsp;&nbsp;&nbsp;&nbsp;&nbsp;7.4.3) Set minimum and maximum locus"
   ]
  },
  {
   "cell_type": "markdown",
   "metadata": {},
   "source": [
    "Set up minimum and maximum locus to get a piece of the reference sequence to launch CSReport"
   ]
  },
  {
   "cell_type": "code",
   "execution_count": null,
   "metadata": {
    "collapsed": true
   },
   "outputs": [],
   "source": [
    "### CODE ###\n",
    "###HERE by exemple\n",
    "###mm10\n",
    "###chr12    113225832    113255223    3'RR\n",
    "###chr12    113423027    113426701    muIgh\n",
    "min_mm10=$(awk -F $'\\t' '{if($1==\"chr12\"){print}}' /media/sf_LAM/Data/mm10_locus.txt | sort -k2,2n | awk 'NR == 1 {print $2}')\n",
    "max_mm10=$(awk -F $'\\t' '{if($1==\"chr12\"){print}}' /media/sf_LAM/Data/mm10_locus.txt | sort -k3,3rn | awk 'NR == 1 {print $3}')\n",
    "###chr6    70723910    70724133    Intron IgK\n",
    "###chr6    70733460    70735539    mEik/Ck2\n",
    "min_mm10_Jk=$(awk -F $'\\t' '{if($1==\"chr6\"){print}}' /media/sf_LAM/Data/mm10_Jk_locus.txt | sort -k2,2n | awk 'NR == 1 {print $2}')\n",
    "max_mm10_Jk=$(awk -F $'\\t' '{if($1==\"chr6\"){print}}' /media/sf_LAM/Data/mm10_Jk_locus.txt | sort -k3,3rn | awk 'NR == 1 {print $3}')\n"
   ]
  },
  {
   "cell_type": "markdown",
   "metadata": {},
   "source": [
    "#### &nbsp;&nbsp;&nbsp;&nbsp;&nbsp;&nbsp;&nbsp;&nbsp;&nbsp;&nbsp;&nbsp;&nbsp;&nbsp;&nbsp;&nbsp;&nbsp;7.4.4) Retrieve IgH locus"
   ]
  },
  {
   "cell_type": "markdown",
   "metadata": {},
   "source": [
    "##### mm10"
   ]
  },
  {
   "cell_type": "code",
   "execution_count": null,
   "metadata": {
    "collapsed": true
   },
   "outputs": [],
   "source": [
    "### CODE ###\n",
    "cd $GENOME_DB/mm10/\n",
    "samtools faidx mm10.fa chr12:$min_mm10-$max_mm10 > /home/lam/Documents/LAM/Scripts/CSReport/Ref_mm10_chr12.fasta"
   ]
  },
  {
   "cell_type": "markdown",
   "metadata": {},
   "source": [
    "##### mm10_Jk"
   ]
  },
  {
   "cell_type": "code",
   "execution_count": null,
   "metadata": {
    "collapsed": true
   },
   "outputs": [],
   "source": [
    "### CODE ###\n",
    "cd $GENOME_DB/mm10_Jk/\n",
    "samtools faidx mm10_Jk.fa chr6:$min_mm10_Jk-$max_mm10_Jk > /home/lam/Documents/LAM/Scripts/CSReport/Ref_mm10_Jk_chr6.fasta"
   ]
  },
  {
   "cell_type": "markdown",
   "metadata": {},
   "source": [
    "#### &nbsp;&nbsp;&nbsp;&nbsp;&nbsp;&nbsp;&nbsp;&nbsp;&nbsp;&nbsp;&nbsp;&nbsp;&nbsp;&nbsp;&nbsp;&nbsp;7.4.5) Adapt annotation file"
   ]
  },
  {
   "cell_type": "markdown",
   "metadata": {},
   "source": [
    "##### mm10"
   ]
  },
  {
   "cell_type": "code",
   "execution_count": null,
   "metadata": {
    "collapsed": true
   },
   "outputs": [],
   "source": [
    "### CODE ###\n",
    "cd /media/sf_LAM/Data/\n",
    "awk -v min_mm10=$min_mm10 -F $'\\t' '{if($1==\"chr12\"){$1=$4=\"\"; print $5 \"\\t\" $2 - min_mm10+1 \"\\t\" $3 - min_mm10+1}}' mm10_locus.txt > /home/lam/Documents/LAM/Scripts/CSReport/Ref_mm10_chr12.annot"
   ]
  },
  {
   "cell_type": "markdown",
   "metadata": {},
   "source": [
    "##### mm10_Jk"
   ]
  },
  {
   "cell_type": "code",
   "execution_count": null,
   "metadata": {
    "collapsed": true
   },
   "outputs": [],
   "source": [
    "### CODE ###\n",
    "cd /media/sf_LAM/Data/\n",
    "awk -v min_mm10_Jk=$min_mm10_Jk -F $'\\t' '{if($1==\"chr6\"){$1=$4=\"\"; print $5 \"\\t\" $2 - min_mm10_Jk+1 \"\\t\" $3 - min_mm10_Jk+1}}' mm10_Jk_locus.txt > /home/lam/Documents/LAM/Scripts/CSReport/Ref_mm10_Jk_chr6.annot"
   ]
  },
  {
   "cell_type": "markdown",
   "metadata": {},
   "source": [
    "#### &nbsp;&nbsp;&nbsp;&nbsp;&nbsp;&nbsp;&nbsp;&nbsp;&nbsp;&nbsp;&nbsp;&nbsp;&nbsp;&nbsp;&nbsp;&nbsp;7.4.6) Run CSReport"
   ]
  },
  {
   "cell_type": "markdown",
   "metadata": {},
   "source": [
    "Care if you have locis with \" ' \", use \" \\ \", same for space"
   ]
  },
  {
   "cell_type": "markdown",
   "metadata": {},
   "source": [
    "##### &nbsp;&nbsp;&nbsp;&nbsp;&nbsp;&nbsp;&nbsp;&nbsp;&nbsp;&nbsp;&nbsp;&nbsp;&nbsp;&nbsp;&nbsp;&nbsp;&nbsp;&nbsp;&nbsp;&nbsp;&nbsp;&nbsp;&nbsp;&nbsp;7.4.6.1) Files with duplicates"
   ]
  },
  {
   "cell_type": "markdown",
   "metadata": {},
   "source": [
    "##### mm10"
   ]
  },
  {
   "cell_type": "code",
   "execution_count": null,
   "metadata": {
    "collapsed": true
   },
   "outputs": [],
   "source": [
    "### CODE ###\n",
    "cd /media/sf_LAM/Data/Puce1\n",
    "python /home/lam/Documents/LAM/Scripts/run_CSReport.py -d /home/lam/Documents/LAM/Scripts/CSReport/ -f metadata.txt -k postprocess -t /home/lam/Documents/LAM/Scripts/CSReport/Ref_mm10_chr12.annot -a muIgh -b all -u -g mm10 -j /home/lam/Documents/LAM/Scripts/CSReport/Ref_mm10_chr12.fasta -c 1 -r -n Dup,Pool100Gap5"
   ]
  },
  {
   "cell_type": "markdown",
   "metadata": {},
   "source": [
    "##### mm10_Jk"
   ]
  },
  {
   "cell_type": "code",
   "execution_count": null,
   "metadata": {
    "collapsed": true
   },
   "outputs": [],
   "source": [
    "### CODE ###\n",
    "cd /media/sf_LAM/Data/Puce1\n",
    "python /home/lam/Documents/LAM/Scripts/run_CSReport.py -d /home/lam/Documents/LAM/Scripts/CSReport/ -f metadata.txt -k postprocess -t /home/lam/Documents/LAM/Scripts/CSReport/Ref_mm10_Jk_chr6.annot -a Intron\\ IgK -b all -u -g mm10_Jk -j /home/lam/Documents/LAM/Scripts/CSReport/Ref_mm10_Jk_chr6.fasta -c 1 -r -n Dup,FilOutMapqual,Pool100Gap5"
   ]
  },
  {
   "cell_type": "markdown",
   "metadata": {},
   "source": [
    "##### &nbsp;&nbsp;&nbsp;&nbsp;&nbsp;&nbsp;&nbsp;&nbsp;&nbsp;&nbsp;&nbsp;&nbsp;&nbsp;&nbsp;&nbsp;&nbsp;&nbsp;&nbsp;&nbsp;&nbsp;&nbsp;&nbsp;&nbsp;&nbsp;7.4.6.2) Files without duplicates"
   ]
  },
  {
   "cell_type": "markdown",
   "metadata": {},
   "source": [
    "##### mm10"
   ]
  },
  {
   "cell_type": "code",
   "execution_count": null,
   "metadata": {
    "collapsed": true
   },
   "outputs": [],
   "source": [
    "### CODE ###\n",
    "cd /media/sf_LAM/Data/Puce1\n",
    "python /home/lam/Documents/LAM/Scripts/run_CSReport.py -d /home/lam/Documents/LAM/Scripts/CSReport/ -f metadata.txt -k postprocess -t /home/lam/Documents/LAM/Scripts/CSReport/Ref_mm10_chr12.annot -a muIgh -b all -u -g mm10 -j /home/lam/Documents/LAM/Scripts/CSReport/Ref_mm10_chr12.fasta -c 1 -r -n NoDup,Pool100Gap5"
   ]
  },
  {
   "cell_type": "markdown",
   "metadata": {},
   "source": [
    "##### mm10_Jk"
   ]
  },
  {
   "cell_type": "code",
   "execution_count": null,
   "metadata": {
    "collapsed": true
   },
   "outputs": [],
   "source": [
    "### CODE ###\n",
    "cd /media/sf_LAM/Data/Puce1\n",
    "python /home/lam/Documents/LAM/Scripts/run_CSReport.py -d /home/lam/Documents/LAM/Scripts/CSReport/ -f metadata.txt -k postprocess -t /home/lam/Documents/LAM/Scripts/CSReport/Ref_mm10_Jk_chr6.annot -a Intron\\ IgK -b all -u -g mm10_Jk -j /home/lam/Documents/LAM/Scripts/CSReport/Ref_mm10_Jk_chr6.fasta -c 1 -r -n NoDup,FilOutMapqual,Pool100Gap5"
   ]
  },
  {
   "cell_type": "markdown",
   "metadata": {},
   "source": [
    "### &nbsp;&nbsp;&nbsp;&nbsp;&nbsp;&nbsp;&nbsp;&nbsp;7.5) Break positions"
   ]
  },
  {
   "cell_type": "markdown",
   "metadata": {},
   "source": [
    "#### &nbsp;&nbsp;&nbsp;&nbsp;&nbsp;&nbsp;&nbsp;&nbsp;&nbsp;&nbsp;&nbsp;&nbsp;&nbsp;&nbsp;&nbsp;&nbsp;7.5.1) Files with duplicates"
   ]
  },
  {
   "cell_type": "markdown",
   "metadata": {},
   "source": [
    "##### mm10"
   ]
  },
  {
   "cell_type": "code",
   "execution_count": null,
   "metadata": {
    "collapsed": true
   },
   "outputs": [],
   "source": [
    "### CODE ###\n",
    "cd /media/sf_LAM/Data/Puce1\n",
    "###Normal counts\n",
    "python /home/lam/Documents/LAM/Scripts/break_positions_plot.py -f metadata.txt -k postprocess -m BreakPosition_counts -g mm10 -d 0 -n Dup,Pool100Gap5\n",
    "###Log2 counts\n",
    "python /home/lam/Documents/LAM/Scripts/break_positions_plot.py -f metadata.txt -k postprocess -m BreakPosition_log2counts -g mm10 -d 1 -n Dup,Pool100Gap5"
   ]
  },
  {
   "cell_type": "markdown",
   "metadata": {},
   "source": [
    "##### mm10_Jk"
   ]
  },
  {
   "cell_type": "code",
   "execution_count": null,
   "metadata": {
    "collapsed": true
   },
   "outputs": [],
   "source": [
    "### CODE ###\n",
    "cd /media/sf_LAM/Data/Puce1\n",
    "###Normal counts\n",
    "python /home/lam/Documents/LAM/Scripts/break_positions_plot.py -f metadata.txt -k postprocess -m BreakPosition_counts -g mm10_Jk -d 0 -n Dup,FilOutMapqual,Pool100Gap5\n",
    "###Log2 counts\n",
    "python /home/lam/Documents/LAM/Scripts/break_positions_plot.py -f metadata.txt -k postprocess -m BreakPosition_log2counts -g mm10_Jk -d 1 -n Dup,FilOutMapqual,Pool100Gap5"
   ]
  },
  {
   "cell_type": "markdown",
   "metadata": {},
   "source": [
    "#### &nbsp;&nbsp;&nbsp;&nbsp;&nbsp;&nbsp;&nbsp;&nbsp;&nbsp;&nbsp;&nbsp;&nbsp;&nbsp;&nbsp;&nbsp;&nbsp;7.5.2) Files without duplicates"
   ]
  },
  {
   "cell_type": "markdown",
   "metadata": {},
   "source": [
    "##### mm10"
   ]
  },
  {
   "cell_type": "code",
   "execution_count": null,
   "metadata": {
    "collapsed": true
   },
   "outputs": [],
   "source": [
    "### CODE ###\n",
    "cd /media/sf_LAM/Data/Puce1\n",
    "###Normal counts\n",
    "python /home/lam/Documents/LAM/Scripts/break_positions_plot.py -f metadata.txt -k postprocess -m BreakPosition_counts -g mm10 -d 0 -n NoDup,Pool100Gap5\n",
    "###Log2 counts\n",
    "python /home/lam/Documents/LAM/Scripts/break_positions_plot.py -f metadata.txt -k postprocess -m BreakPosition_log2counts -g mm10 -d 1 -n NoDup,Pool100Gap5"
   ]
  },
  {
   "cell_type": "markdown",
   "metadata": {},
   "source": [
    "##### mm10_Jk"
   ]
  },
  {
   "cell_type": "code",
   "execution_count": null,
   "metadata": {
    "collapsed": true
   },
   "outputs": [],
   "source": [
    "### CODE ###\n",
    "cd /media/sf_LAM/Data/Puce1\n",
    "###Normal counts\n",
    "python /home/lam/Documents/LAM/Scripts/break_positions_plot.py -f metadata.txt -k postprocess -m BreakPosition_counts -g mm10_Jk -d 0 -n NoDup,FilOutMapqual,Pool100Gap5\n",
    "###Log2 counts\n",
    "python /home/lam/Documents/LAM/Scripts/break_positions_plot.py -f metadata.txt -k postprocess -m BreakPosition_log2counts -g mm10_Jk -d 1 -n NoDup,FilOutMapqual,Pool100Gap5"
   ]
  }
 ],
 "metadata": {
  "anaconda-cloud": {},
  "kernelspec": {
   "display_name": "Calysto Bash",
   "language": "bash",
   "name": "calysto_bash"
  },
  "language_info": {
   "file_extension": ".sh",
   "help_links": [
    {
     "text": "MetaKernel Magics",
     "url": "https://github.com/calysto/metakernel/blob/master/metakernel/magics/README.md"
    }
   ],
   "mimetype": "text/x-sh",
   "name": "bash",
   "version": "0.2.0"
  }
 },
 "nbformat": 4,
 "nbformat_minor": 1
}
